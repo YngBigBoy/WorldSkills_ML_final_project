{
  "nbformat": 4,
  "nbformat_minor": 0,
  "metadata": {
    "colab": {
      "provenance": [],
      "mount_file_id": "1ctjLf1s4Nx7JKRfZYi1vy-chDt8QFCja",
      "authorship_tag": "ABX9TyMb+5CyVvDgm628ylIyS9h/"
    },
    "kernelspec": {
      "name": "python3",
      "display_name": "Python 3"
    },
    "accelerator": "GPU"
  },
  "cells": [
    {
      "cell_type": "markdown",
      "metadata": {
        "id": "aUP71_jh7fYG"
      },
      "source": [
        "Цель:\n",
        "\n",
        "Обработать данные и спроэктировать модель для изучения целевой аудитории и привлечения новых клиентов\n"
      ]
    },
    {
      "cell_type": "code",
      "metadata": {
        "id": "RT2SQtul6dGr"
      },
      "source": [
        "#Подключаем все нужные библеотеки\n",
        "from google.colab import files\n",
        "\n",
        "from IPython.core.pylabtools import figsize\n",
        "\n",
        "import pandas as pd\n",
        "\n",
        "pd.options.mode.chained_assignment = None  # default='warn\n",
        "import numpy as np\n",
        "\n",
        "import seaborn as sns\n",
        "sns.set(font_scale = 2)\n",
        "\n",
        "from sklearn.preprocessing import MinMaxScaler\n",
        "\n",
        "from sklearn.impute import SimpleImputer\n",
        "\n",
        "from sklearn.linear_model import LinearRegression\n",
        "\n",
        "from sklearn.ensemble import RandomForestRegressor, GradientBoostingRegressor\n",
        "\n",
        "from sklearn.svm import SVR\n",
        "\n",
        "from sklearn.neighbors import KNeighborsRegressor\n",
        "\n",
        "from sklearn.model_selection import RandomizedSearchCV, GridSearchCV"
      ],
      "execution_count": null,
      "outputs": []
    },
    {
      "cell_type": "code",
      "metadata": {
        "colab": {
          "base_uri": "https://localhost:8080/",
          "height": 497
        },
        "id": "7oPMTFvF6yH_",
        "outputId": "e6be83d0-7d4e-4b4e-e603-71dbc7c7deee"
      },
      "source": [
        "#Подгружаем данные\n",
        "files.upload()\n",
        "!ls\n",
        "RawData = pd.read_csv('marketing_data.csv')\n",
        "RawData"
      ],
      "execution_count": null,
      "outputs": [
        {
          "output_type": "display_data",
          "data": {
            "text/plain": [
              "<IPython.core.display.HTML object>"
            ],
            "text/html": [
              "\n",
              "     <input type=\"file\" id=\"files-04574066-2cd4-4b0e-a669-a0c19ef72f57\" name=\"files[]\" multiple disabled\n",
              "        style=\"border:none\" />\n",
              "     <output id=\"result-04574066-2cd4-4b0e-a669-a0c19ef72f57\">\n",
              "      Upload widget is only available when the cell has been executed in the\n",
              "      current browser session. Please rerun this cell to enable.\n",
              "      </output>\n",
              "      <script>// Copyright 2017 Google LLC\n",
              "//\n",
              "// Licensed under the Apache License, Version 2.0 (the \"License\");\n",
              "// you may not use this file except in compliance with the License.\n",
              "// You may obtain a copy of the License at\n",
              "//\n",
              "//      http://www.apache.org/licenses/LICENSE-2.0\n",
              "//\n",
              "// Unless required by applicable law or agreed to in writing, software\n",
              "// distributed under the License is distributed on an \"AS IS\" BASIS,\n",
              "// WITHOUT WARRANTIES OR CONDITIONS OF ANY KIND, either express or implied.\n",
              "// See the License for the specific language governing permissions and\n",
              "// limitations under the License.\n",
              "\n",
              "/**\n",
              " * @fileoverview Helpers for google.colab Python module.\n",
              " */\n",
              "(function(scope) {\n",
              "function span(text, styleAttributes = {}) {\n",
              "  const element = document.createElement('span');\n",
              "  element.textContent = text;\n",
              "  for (const key of Object.keys(styleAttributes)) {\n",
              "    element.style[key] = styleAttributes[key];\n",
              "  }\n",
              "  return element;\n",
              "}\n",
              "\n",
              "// Max number of bytes which will be uploaded at a time.\n",
              "const MAX_PAYLOAD_SIZE = 100 * 1024;\n",
              "\n",
              "function _uploadFiles(inputId, outputId) {\n",
              "  const steps = uploadFilesStep(inputId, outputId);\n",
              "  const outputElement = document.getElementById(outputId);\n",
              "  // Cache steps on the outputElement to make it available for the next call\n",
              "  // to uploadFilesContinue from Python.\n",
              "  outputElement.steps = steps;\n",
              "\n",
              "  return _uploadFilesContinue(outputId);\n",
              "}\n",
              "\n",
              "// This is roughly an async generator (not supported in the browser yet),\n",
              "// where there are multiple asynchronous steps and the Python side is going\n",
              "// to poll for completion of each step.\n",
              "// This uses a Promise to block the python side on completion of each step,\n",
              "// then passes the result of the previous step as the input to the next step.\n",
              "function _uploadFilesContinue(outputId) {\n",
              "  const outputElement = document.getElementById(outputId);\n",
              "  const steps = outputElement.steps;\n",
              "\n",
              "  const next = steps.next(outputElement.lastPromiseValue);\n",
              "  return Promise.resolve(next.value.promise).then((value) => {\n",
              "    // Cache the last promise value to make it available to the next\n",
              "    // step of the generator.\n",
              "    outputElement.lastPromiseValue = value;\n",
              "    return next.value.response;\n",
              "  });\n",
              "}\n",
              "\n",
              "/**\n",
              " * Generator function which is called between each async step of the upload\n",
              " * process.\n",
              " * @param {string} inputId Element ID of the input file picker element.\n",
              " * @param {string} outputId Element ID of the output display.\n",
              " * @return {!Iterable<!Object>} Iterable of next steps.\n",
              " */\n",
              "function* uploadFilesStep(inputId, outputId) {\n",
              "  const inputElement = document.getElementById(inputId);\n",
              "  inputElement.disabled = false;\n",
              "\n",
              "  const outputElement = document.getElementById(outputId);\n",
              "  outputElement.innerHTML = '';\n",
              "\n",
              "  const pickedPromise = new Promise((resolve) => {\n",
              "    inputElement.addEventListener('change', (e) => {\n",
              "      resolve(e.target.files);\n",
              "    });\n",
              "  });\n",
              "\n",
              "  const cancel = document.createElement('button');\n",
              "  inputElement.parentElement.appendChild(cancel);\n",
              "  cancel.textContent = 'Cancel upload';\n",
              "  const cancelPromise = new Promise((resolve) => {\n",
              "    cancel.onclick = () => {\n",
              "      resolve(null);\n",
              "    };\n",
              "  });\n",
              "\n",
              "  // Wait for the user to pick the files.\n",
              "  const files = yield {\n",
              "    promise: Promise.race([pickedPromise, cancelPromise]),\n",
              "    response: {\n",
              "      action: 'starting',\n",
              "    }\n",
              "  };\n",
              "\n",
              "  cancel.remove();\n",
              "\n",
              "  // Disable the input element since further picks are not allowed.\n",
              "  inputElement.disabled = true;\n",
              "\n",
              "  if (!files) {\n",
              "    return {\n",
              "      response: {\n",
              "        action: 'complete',\n",
              "      }\n",
              "    };\n",
              "  }\n",
              "\n",
              "  for (const file of files) {\n",
              "    const li = document.createElement('li');\n",
              "    li.append(span(file.name, {fontWeight: 'bold'}));\n",
              "    li.append(span(\n",
              "        `(${file.type || 'n/a'}) - ${file.size} bytes, ` +\n",
              "        `last modified: ${\n",
              "            file.lastModifiedDate ? file.lastModifiedDate.toLocaleDateString() :\n",
              "                                    'n/a'} - `));\n",
              "    const percent = span('0% done');\n",
              "    li.appendChild(percent);\n",
              "\n",
              "    outputElement.appendChild(li);\n",
              "\n",
              "    const fileDataPromise = new Promise((resolve) => {\n",
              "      const reader = new FileReader();\n",
              "      reader.onload = (e) => {\n",
              "        resolve(e.target.result);\n",
              "      };\n",
              "      reader.readAsArrayBuffer(file);\n",
              "    });\n",
              "    // Wait for the data to be ready.\n",
              "    let fileData = yield {\n",
              "      promise: fileDataPromise,\n",
              "      response: {\n",
              "        action: 'continue',\n",
              "      }\n",
              "    };\n",
              "\n",
              "    // Use a chunked sending to avoid message size limits. See b/62115660.\n",
              "    let position = 0;\n",
              "    do {\n",
              "      const length = Math.min(fileData.byteLength - position, MAX_PAYLOAD_SIZE);\n",
              "      const chunk = new Uint8Array(fileData, position, length);\n",
              "      position += length;\n",
              "\n",
              "      const base64 = btoa(String.fromCharCode.apply(null, chunk));\n",
              "      yield {\n",
              "        response: {\n",
              "          action: 'append',\n",
              "          file: file.name,\n",
              "          data: base64,\n",
              "        },\n",
              "      };\n",
              "\n",
              "      let percentDone = fileData.byteLength === 0 ?\n",
              "          100 :\n",
              "          Math.round((position / fileData.byteLength) * 100);\n",
              "      percent.textContent = `${percentDone}% done`;\n",
              "\n",
              "    } while (position < fileData.byteLength);\n",
              "  }\n",
              "\n",
              "  // All done.\n",
              "  yield {\n",
              "    response: {\n",
              "      action: 'complete',\n",
              "    }\n",
              "  };\n",
              "}\n",
              "\n",
              "scope.google = scope.google || {};\n",
              "scope.google.colab = scope.google.colab || {};\n",
              "scope.google.colab._files = {\n",
              "  _uploadFiles,\n",
              "  _uploadFilesContinue,\n",
              "};\n",
              "})(self);\n",
              "</script> "
            ]
          },
          "metadata": {}
        },
        {
          "output_type": "stream",
          "name": "stdout",
          "text": [
            "Saving marketing_data.csv to marketing_data (1).csv\n",
            " drive\t'marketing_data (1).csv'   marketing_data.csv   sample_data\n"
          ]
        },
        {
          "output_type": "execute_result",
          "data": {
            "text/plain": [
              "         ID  Year_Birth   Education Marital_Status      Income   Kidhome  \\\n",
              "0      1826        1970  Graduation       Divorced  $84,835.00         0   \n",
              "1         1        1961  Graduation         Single  $57,091.00         0   \n",
              "2     10476        1958  Graduation        Married  $67,267.00         0   \n",
              "3      1386        1967  Graduation       Together  $32,474.00         1   \n",
              "4      5371        1989  Graduation         Single  $21,474.00         1   \n",
              "...     ...         ...         ...            ...          ...      ...   \n",
              "2235  10142        1976         PhD       Divorced  $66,476.00         0   \n",
              "2236   5263        1977    2n Cycle        Married  $31,056.00         1   \n",
              "2237     22        1976  Graduation       Divorced  $46,310.00         1   \n",
              "2238    528        1978  Graduation        Married  $65,819.00         0   \n",
              "2239   4070        1969         PhD        Married  $94,871.00         0   \n",
              "\n",
              "      Teenhome Dt_Customer  Recency  MntWines  ...  NumStorePurchases  \\\n",
              "0            0     6/16/14        0       189  ...                  6   \n",
              "1            0     6/15/14        0       464  ...                  7   \n",
              "2            1     5/13/14        0       134  ...                  5   \n",
              "3            1     5/11/14        0        10  ...                  2   \n",
              "4            0      4/8/14        0         6  ...                  2   \n",
              "...        ...         ...      ...       ...  ...                ...   \n",
              "2235         1      3/7/13       99       372  ...                 11   \n",
              "2236         0     1/22/13       99         5  ...                  3   \n",
              "2237         0     12/3/12       99       185  ...                  5   \n",
              "2238         0    11/29/12       99       267  ...                 10   \n",
              "2239         2      9/1/12       99       169  ...                  4   \n",
              "\n",
              "      NumWebVisitsMonth  AcceptedCmp3  AcceptedCmp4  AcceptedCmp5  \\\n",
              "0                     1             0             0             0   \n",
              "1                     5             0             0             0   \n",
              "2                     2             0             0             0   \n",
              "3                     7             0             0             0   \n",
              "4                     7             1             0             0   \n",
              "...                 ...           ...           ...           ...   \n",
              "2235                  4             0             0             0   \n",
              "2236                  8             0             0             0   \n",
              "2237                  8             0             0             0   \n",
              "2238                  3             0             0             0   \n",
              "2239                  7             0             1             1   \n",
              "\n",
              "      AcceptedCmp1  AcceptedCmp2  Response  Complain  Country  \n",
              "0                0             0         1         0       SP  \n",
              "1                0             1         1         0       CA  \n",
              "2                0             0         0         0       US  \n",
              "3                0             0         0         0      AUS  \n",
              "4                0             0         1         0       SP  \n",
              "...            ...           ...       ...       ...      ...  \n",
              "2235             0             0         0         0       US  \n",
              "2236             0             0         0         0       SP  \n",
              "2237             0             0         0         0       SP  \n",
              "2238             0             0         0         0      IND  \n",
              "2239             0             0         1         0       CA  \n",
              "\n",
              "[2240 rows x 28 columns]"
            ],
            "text/html": [
              "\n",
              "  <div id=\"df-4d541ea3-27fd-4932-91a1-4a12e2bb300e\">\n",
              "    <div class=\"colab-df-container\">\n",
              "      <div>\n",
              "<style scoped>\n",
              "    .dataframe tbody tr th:only-of-type {\n",
              "        vertical-align: middle;\n",
              "    }\n",
              "\n",
              "    .dataframe tbody tr th {\n",
              "        vertical-align: top;\n",
              "    }\n",
              "\n",
              "    .dataframe thead th {\n",
              "        text-align: right;\n",
              "    }\n",
              "</style>\n",
              "<table border=\"1\" class=\"dataframe\">\n",
              "  <thead>\n",
              "    <tr style=\"text-align: right;\">\n",
              "      <th></th>\n",
              "      <th>ID</th>\n",
              "      <th>Year_Birth</th>\n",
              "      <th>Education</th>\n",
              "      <th>Marital_Status</th>\n",
              "      <th>Income</th>\n",
              "      <th>Kidhome</th>\n",
              "      <th>Teenhome</th>\n",
              "      <th>Dt_Customer</th>\n",
              "      <th>Recency</th>\n",
              "      <th>MntWines</th>\n",
              "      <th>...</th>\n",
              "      <th>NumStorePurchases</th>\n",
              "      <th>NumWebVisitsMonth</th>\n",
              "      <th>AcceptedCmp3</th>\n",
              "      <th>AcceptedCmp4</th>\n",
              "      <th>AcceptedCmp5</th>\n",
              "      <th>AcceptedCmp1</th>\n",
              "      <th>AcceptedCmp2</th>\n",
              "      <th>Response</th>\n",
              "      <th>Complain</th>\n",
              "      <th>Country</th>\n",
              "    </tr>\n",
              "  </thead>\n",
              "  <tbody>\n",
              "    <tr>\n",
              "      <th>0</th>\n",
              "      <td>1826</td>\n",
              "      <td>1970</td>\n",
              "      <td>Graduation</td>\n",
              "      <td>Divorced</td>\n",
              "      <td>$84,835.00</td>\n",
              "      <td>0</td>\n",
              "      <td>0</td>\n",
              "      <td>6/16/14</td>\n",
              "      <td>0</td>\n",
              "      <td>189</td>\n",
              "      <td>...</td>\n",
              "      <td>6</td>\n",
              "      <td>1</td>\n",
              "      <td>0</td>\n",
              "      <td>0</td>\n",
              "      <td>0</td>\n",
              "      <td>0</td>\n",
              "      <td>0</td>\n",
              "      <td>1</td>\n",
              "      <td>0</td>\n",
              "      <td>SP</td>\n",
              "    </tr>\n",
              "    <tr>\n",
              "      <th>1</th>\n",
              "      <td>1</td>\n",
              "      <td>1961</td>\n",
              "      <td>Graduation</td>\n",
              "      <td>Single</td>\n",
              "      <td>$57,091.00</td>\n",
              "      <td>0</td>\n",
              "      <td>0</td>\n",
              "      <td>6/15/14</td>\n",
              "      <td>0</td>\n",
              "      <td>464</td>\n",
              "      <td>...</td>\n",
              "      <td>7</td>\n",
              "      <td>5</td>\n",
              "      <td>0</td>\n",
              "      <td>0</td>\n",
              "      <td>0</td>\n",
              "      <td>0</td>\n",
              "      <td>1</td>\n",
              "      <td>1</td>\n",
              "      <td>0</td>\n",
              "      <td>CA</td>\n",
              "    </tr>\n",
              "    <tr>\n",
              "      <th>2</th>\n",
              "      <td>10476</td>\n",
              "      <td>1958</td>\n",
              "      <td>Graduation</td>\n",
              "      <td>Married</td>\n",
              "      <td>$67,267.00</td>\n",
              "      <td>0</td>\n",
              "      <td>1</td>\n",
              "      <td>5/13/14</td>\n",
              "      <td>0</td>\n",
              "      <td>134</td>\n",
              "      <td>...</td>\n",
              "      <td>5</td>\n",
              "      <td>2</td>\n",
              "      <td>0</td>\n",
              "      <td>0</td>\n",
              "      <td>0</td>\n",
              "      <td>0</td>\n",
              "      <td>0</td>\n",
              "      <td>0</td>\n",
              "      <td>0</td>\n",
              "      <td>US</td>\n",
              "    </tr>\n",
              "    <tr>\n",
              "      <th>3</th>\n",
              "      <td>1386</td>\n",
              "      <td>1967</td>\n",
              "      <td>Graduation</td>\n",
              "      <td>Together</td>\n",
              "      <td>$32,474.00</td>\n",
              "      <td>1</td>\n",
              "      <td>1</td>\n",
              "      <td>5/11/14</td>\n",
              "      <td>0</td>\n",
              "      <td>10</td>\n",
              "      <td>...</td>\n",
              "      <td>2</td>\n",
              "      <td>7</td>\n",
              "      <td>0</td>\n",
              "      <td>0</td>\n",
              "      <td>0</td>\n",
              "      <td>0</td>\n",
              "      <td>0</td>\n",
              "      <td>0</td>\n",
              "      <td>0</td>\n",
              "      <td>AUS</td>\n",
              "    </tr>\n",
              "    <tr>\n",
              "      <th>4</th>\n",
              "      <td>5371</td>\n",
              "      <td>1989</td>\n",
              "      <td>Graduation</td>\n",
              "      <td>Single</td>\n",
              "      <td>$21,474.00</td>\n",
              "      <td>1</td>\n",
              "      <td>0</td>\n",
              "      <td>4/8/14</td>\n",
              "      <td>0</td>\n",
              "      <td>6</td>\n",
              "      <td>...</td>\n",
              "      <td>2</td>\n",
              "      <td>7</td>\n",
              "      <td>1</td>\n",
              "      <td>0</td>\n",
              "      <td>0</td>\n",
              "      <td>0</td>\n",
              "      <td>0</td>\n",
              "      <td>1</td>\n",
              "      <td>0</td>\n",
              "      <td>SP</td>\n",
              "    </tr>\n",
              "    <tr>\n",
              "      <th>...</th>\n",
              "      <td>...</td>\n",
              "      <td>...</td>\n",
              "      <td>...</td>\n",
              "      <td>...</td>\n",
              "      <td>...</td>\n",
              "      <td>...</td>\n",
              "      <td>...</td>\n",
              "      <td>...</td>\n",
              "      <td>...</td>\n",
              "      <td>...</td>\n",
              "      <td>...</td>\n",
              "      <td>...</td>\n",
              "      <td>...</td>\n",
              "      <td>...</td>\n",
              "      <td>...</td>\n",
              "      <td>...</td>\n",
              "      <td>...</td>\n",
              "      <td>...</td>\n",
              "      <td>...</td>\n",
              "      <td>...</td>\n",
              "      <td>...</td>\n",
              "    </tr>\n",
              "    <tr>\n",
              "      <th>2235</th>\n",
              "      <td>10142</td>\n",
              "      <td>1976</td>\n",
              "      <td>PhD</td>\n",
              "      <td>Divorced</td>\n",
              "      <td>$66,476.00</td>\n",
              "      <td>0</td>\n",
              "      <td>1</td>\n",
              "      <td>3/7/13</td>\n",
              "      <td>99</td>\n",
              "      <td>372</td>\n",
              "      <td>...</td>\n",
              "      <td>11</td>\n",
              "      <td>4</td>\n",
              "      <td>0</td>\n",
              "      <td>0</td>\n",
              "      <td>0</td>\n",
              "      <td>0</td>\n",
              "      <td>0</td>\n",
              "      <td>0</td>\n",
              "      <td>0</td>\n",
              "      <td>US</td>\n",
              "    </tr>\n",
              "    <tr>\n",
              "      <th>2236</th>\n",
              "      <td>5263</td>\n",
              "      <td>1977</td>\n",
              "      <td>2n Cycle</td>\n",
              "      <td>Married</td>\n",
              "      <td>$31,056.00</td>\n",
              "      <td>1</td>\n",
              "      <td>0</td>\n",
              "      <td>1/22/13</td>\n",
              "      <td>99</td>\n",
              "      <td>5</td>\n",
              "      <td>...</td>\n",
              "      <td>3</td>\n",
              "      <td>8</td>\n",
              "      <td>0</td>\n",
              "      <td>0</td>\n",
              "      <td>0</td>\n",
              "      <td>0</td>\n",
              "      <td>0</td>\n",
              "      <td>0</td>\n",
              "      <td>0</td>\n",
              "      <td>SP</td>\n",
              "    </tr>\n",
              "    <tr>\n",
              "      <th>2237</th>\n",
              "      <td>22</td>\n",
              "      <td>1976</td>\n",
              "      <td>Graduation</td>\n",
              "      <td>Divorced</td>\n",
              "      <td>$46,310.00</td>\n",
              "      <td>1</td>\n",
              "      <td>0</td>\n",
              "      <td>12/3/12</td>\n",
              "      <td>99</td>\n",
              "      <td>185</td>\n",
              "      <td>...</td>\n",
              "      <td>5</td>\n",
              "      <td>8</td>\n",
              "      <td>0</td>\n",
              "      <td>0</td>\n",
              "      <td>0</td>\n",
              "      <td>0</td>\n",
              "      <td>0</td>\n",
              "      <td>0</td>\n",
              "      <td>0</td>\n",
              "      <td>SP</td>\n",
              "    </tr>\n",
              "    <tr>\n",
              "      <th>2238</th>\n",
              "      <td>528</td>\n",
              "      <td>1978</td>\n",
              "      <td>Graduation</td>\n",
              "      <td>Married</td>\n",
              "      <td>$65,819.00</td>\n",
              "      <td>0</td>\n",
              "      <td>0</td>\n",
              "      <td>11/29/12</td>\n",
              "      <td>99</td>\n",
              "      <td>267</td>\n",
              "      <td>...</td>\n",
              "      <td>10</td>\n",
              "      <td>3</td>\n",
              "      <td>0</td>\n",
              "      <td>0</td>\n",
              "      <td>0</td>\n",
              "      <td>0</td>\n",
              "      <td>0</td>\n",
              "      <td>0</td>\n",
              "      <td>0</td>\n",
              "      <td>IND</td>\n",
              "    </tr>\n",
              "    <tr>\n",
              "      <th>2239</th>\n",
              "      <td>4070</td>\n",
              "      <td>1969</td>\n",
              "      <td>PhD</td>\n",
              "      <td>Married</td>\n",
              "      <td>$94,871.00</td>\n",
              "      <td>0</td>\n",
              "      <td>2</td>\n",
              "      <td>9/1/12</td>\n",
              "      <td>99</td>\n",
              "      <td>169</td>\n",
              "      <td>...</td>\n",
              "      <td>4</td>\n",
              "      <td>7</td>\n",
              "      <td>0</td>\n",
              "      <td>1</td>\n",
              "      <td>1</td>\n",
              "      <td>0</td>\n",
              "      <td>0</td>\n",
              "      <td>1</td>\n",
              "      <td>0</td>\n",
              "      <td>CA</td>\n",
              "    </tr>\n",
              "  </tbody>\n",
              "</table>\n",
              "<p>2240 rows × 28 columns</p>\n",
              "</div>\n",
              "      <button class=\"colab-df-convert\" onclick=\"convertToInteractive('df-4d541ea3-27fd-4932-91a1-4a12e2bb300e')\"\n",
              "              title=\"Convert this dataframe to an interactive table.\"\n",
              "              style=\"display:none;\">\n",
              "        \n",
              "  <svg xmlns=\"http://www.w3.org/2000/svg\" height=\"24px\"viewBox=\"0 0 24 24\"\n",
              "       width=\"24px\">\n",
              "    <path d=\"M0 0h24v24H0V0z\" fill=\"none\"/>\n",
              "    <path d=\"M18.56 5.44l.94 2.06.94-2.06 2.06-.94-2.06-.94-.94-2.06-.94 2.06-2.06.94zm-11 1L8.5 8.5l.94-2.06 2.06-.94-2.06-.94L8.5 2.5l-.94 2.06-2.06.94zm10 10l.94 2.06.94-2.06 2.06-.94-2.06-.94-.94-2.06-.94 2.06-2.06.94z\"/><path d=\"M17.41 7.96l-1.37-1.37c-.4-.4-.92-.59-1.43-.59-.52 0-1.04.2-1.43.59L10.3 9.45l-7.72 7.72c-.78.78-.78 2.05 0 2.83L4 21.41c.39.39.9.59 1.41.59.51 0 1.02-.2 1.41-.59l7.78-7.78 2.81-2.81c.8-.78.8-2.07 0-2.86zM5.41 20L4 18.59l7.72-7.72 1.47 1.35L5.41 20z\"/>\n",
              "  </svg>\n",
              "      </button>\n",
              "      \n",
              "  <style>\n",
              "    .colab-df-container {\n",
              "      display:flex;\n",
              "      flex-wrap:wrap;\n",
              "      gap: 12px;\n",
              "    }\n",
              "\n",
              "    .colab-df-convert {\n",
              "      background-color: #E8F0FE;\n",
              "      border: none;\n",
              "      border-radius: 50%;\n",
              "      cursor: pointer;\n",
              "      display: none;\n",
              "      fill: #1967D2;\n",
              "      height: 32px;\n",
              "      padding: 0 0 0 0;\n",
              "      width: 32px;\n",
              "    }\n",
              "\n",
              "    .colab-df-convert:hover {\n",
              "      background-color: #E2EBFA;\n",
              "      box-shadow: 0px 1px 2px rgba(60, 64, 67, 0.3), 0px 1px 3px 1px rgba(60, 64, 67, 0.15);\n",
              "      fill: #174EA6;\n",
              "    }\n",
              "\n",
              "    [theme=dark] .colab-df-convert {\n",
              "      background-color: #3B4455;\n",
              "      fill: #D2E3FC;\n",
              "    }\n",
              "\n",
              "    [theme=dark] .colab-df-convert:hover {\n",
              "      background-color: #434B5C;\n",
              "      box-shadow: 0px 1px 3px 1px rgba(0, 0, 0, 0.15);\n",
              "      filter: drop-shadow(0px 1px 2px rgba(0, 0, 0, 0.3));\n",
              "      fill: #FFFFFF;\n",
              "    }\n",
              "  </style>\n",
              "\n",
              "      <script>\n",
              "        const buttonEl =\n",
              "          document.querySelector('#df-4d541ea3-27fd-4932-91a1-4a12e2bb300e button.colab-df-convert');\n",
              "        buttonEl.style.display =\n",
              "          google.colab.kernel.accessAllowed ? 'block' : 'none';\n",
              "\n",
              "        async function convertToInteractive(key) {\n",
              "          const element = document.querySelector('#df-4d541ea3-27fd-4932-91a1-4a12e2bb300e');\n",
              "          const dataTable =\n",
              "            await google.colab.kernel.invokeFunction('convertToInteractive',\n",
              "                                                     [key], {});\n",
              "          if (!dataTable) return;\n",
              "\n",
              "          const docLinkHtml = 'Like what you see? Visit the ' +\n",
              "            '<a target=\"_blank\" href=https://colab.research.google.com/notebooks/data_table.ipynb>data table notebook</a>'\n",
              "            + ' to learn more about interactive tables.';\n",
              "          element.innerHTML = '';\n",
              "          dataTable['output_type'] = 'display_data';\n",
              "          await google.colab.output.renderOutput(dataTable, element);\n",
              "          const docLink = document.createElement('div');\n",
              "          docLink.innerHTML = docLinkHtml;\n",
              "          element.appendChild(docLink);\n",
              "        }\n",
              "      </script>\n",
              "    </div>\n",
              "  </div>\n",
              "  "
            ]
          },
          "metadata": {},
          "execution_count": 5
        }
      ]
    },
    {
      "cell_type": "markdown",
      "metadata": {
        "id": "OVLF8YZE7MCY"
      },
      "source": [
        "1) Знакомство и обработка данных "
      ]
    },
    {
      "cell_type": "code",
      "metadata": {
        "colab": {
          "base_uri": "https://localhost:8080/"
        },
        "id": "MljJ488C7SIw",
        "outputId": "abf91bf5-54ea-414b-eba1-e0ec51d6173f"
      },
      "source": [
        "RawData.info()"
      ],
      "execution_count": null,
      "outputs": [
        {
          "output_type": "stream",
          "name": "stdout",
          "text": [
            "<class 'pandas.core.frame.DataFrame'>\n",
            "RangeIndex: 2240 entries, 0 to 2239\n",
            "Data columns (total 28 columns):\n",
            " #   Column               Non-Null Count  Dtype \n",
            "---  ------               --------------  ----- \n",
            " 0   ID                   2240 non-null   int64 \n",
            " 1   Year_Birth           2240 non-null   int64 \n",
            " 2   Education            2240 non-null   object\n",
            " 3   Marital_Status       2240 non-null   object\n",
            " 4    Income              2216 non-null   object\n",
            " 5   Kidhome              2240 non-null   int64 \n",
            " 6   Teenhome             2240 non-null   int64 \n",
            " 7   Dt_Customer          2240 non-null   object\n",
            " 8   Recency              2240 non-null   int64 \n",
            " 9   MntWines             2240 non-null   int64 \n",
            " 10  MntFruits            2240 non-null   int64 \n",
            " 11  MntMeatProducts      2240 non-null   int64 \n",
            " 12  MntFishProducts      2240 non-null   int64 \n",
            " 13  MntSweetProducts     2240 non-null   int64 \n",
            " 14  MntGoldProds         2240 non-null   int64 \n",
            " 15  NumDealsPurchases    2240 non-null   int64 \n",
            " 16  NumWebPurchases      2240 non-null   int64 \n",
            " 17  NumCatalogPurchases  2240 non-null   int64 \n",
            " 18  NumStorePurchases    2240 non-null   int64 \n",
            " 19  NumWebVisitsMonth    2240 non-null   int64 \n",
            " 20  AcceptedCmp3         2240 non-null   int64 \n",
            " 21  AcceptedCmp4         2240 non-null   int64 \n",
            " 22  AcceptedCmp5         2240 non-null   int64 \n",
            " 23  AcceptedCmp1         2240 non-null   int64 \n",
            " 24  AcceptedCmp2         2240 non-null   int64 \n",
            " 25  Response             2240 non-null   int64 \n",
            " 26  Complain             2240 non-null   int64 \n",
            " 27  Country              2240 non-null   object\n",
            "dtypes: int64(23), object(5)\n",
            "memory usage: 490.1+ KB\n"
          ]
        }
      ]
    },
    {
      "cell_type": "code",
      "metadata": {
        "id": "VPwvFutH8O0p"
      },
      "source": [
        "#Проверяем датасет на наличие пропусков\n",
        "def missing_values_table(df):\n",
        "\n",
        "        mis_val = df.isnull().sum()\n",
        "        \n",
        "\n",
        "        mis_val_percent = 100 * df.isnull().sum() / len(df)\n",
        "\n",
        "        mis_val_table = pd.concat([mis_val, mis_val_percent], axis=1)\n",
        "        \n",
        "\n",
        "        mis_val_table_ren_columns = mis_val_table.rename(\n",
        "        columns = {0 : 'Missing Values', 1 : '% of Total Values'})\n",
        "        \n",
        "\n",
        "        mis_val_table_ren_columns = mis_val_table_ren_columns[\n",
        "            mis_val_table_ren_columns.iloc[:,1] != 0].sort_values(\n",
        "        '% of Total Values', ascending=False).round(1)\n",
        "        \n",
        "\n",
        "        print (\"Your selected dataframe has \" + str(df.shape[1]) + \" columns.\\n\"      \n",
        "            \"There are \" + str(mis_val_table_ren_columns.shape[0]) +\n",
        "              \" columns that have missing values.\")\n",
        "        \n",
        "\n",
        "        return mis_val_table_ren_columns"
      ],
      "execution_count": null,
      "outputs": []
    },
    {
      "cell_type": "code",
      "metadata": {
        "colab": {
          "base_uri": "https://localhost:8080/",
          "height": 116
        },
        "id": "8WJeMp5t8om5",
        "outputId": "9e17f530-34a6-4704-c7f8-e4814c61e4ff"
      },
      "source": [
        "missing_values_table(RawData)"
      ],
      "execution_count": null,
      "outputs": [
        {
          "output_type": "stream",
          "name": "stdout",
          "text": [
            "Your selected dataframe has 28 columns.\n",
            "There are 1 columns that have missing values.\n"
          ]
        },
        {
          "output_type": "execute_result",
          "data": {
            "text/plain": [
              "          Missing Values  % of Total Values\n",
              " Income               24                1.1"
            ],
            "text/html": [
              "\n",
              "  <div id=\"df-9d00ac5f-b2f6-4fe5-9358-b071f4960580\">\n",
              "    <div class=\"colab-df-container\">\n",
              "      <div>\n",
              "<style scoped>\n",
              "    .dataframe tbody tr th:only-of-type {\n",
              "        vertical-align: middle;\n",
              "    }\n",
              "\n",
              "    .dataframe tbody tr th {\n",
              "        vertical-align: top;\n",
              "    }\n",
              "\n",
              "    .dataframe thead th {\n",
              "        text-align: right;\n",
              "    }\n",
              "</style>\n",
              "<table border=\"1\" class=\"dataframe\">\n",
              "  <thead>\n",
              "    <tr style=\"text-align: right;\">\n",
              "      <th></th>\n",
              "      <th>Missing Values</th>\n",
              "      <th>% of Total Values</th>\n",
              "    </tr>\n",
              "  </thead>\n",
              "  <tbody>\n",
              "    <tr>\n",
              "      <th>Income</th>\n",
              "      <td>24</td>\n",
              "      <td>1.1</td>\n",
              "    </tr>\n",
              "  </tbody>\n",
              "</table>\n",
              "</div>\n",
              "      <button class=\"colab-df-convert\" onclick=\"convertToInteractive('df-9d00ac5f-b2f6-4fe5-9358-b071f4960580')\"\n",
              "              title=\"Convert this dataframe to an interactive table.\"\n",
              "              style=\"display:none;\">\n",
              "        \n",
              "  <svg xmlns=\"http://www.w3.org/2000/svg\" height=\"24px\"viewBox=\"0 0 24 24\"\n",
              "       width=\"24px\">\n",
              "    <path d=\"M0 0h24v24H0V0z\" fill=\"none\"/>\n",
              "    <path d=\"M18.56 5.44l.94 2.06.94-2.06 2.06-.94-2.06-.94-.94-2.06-.94 2.06-2.06.94zm-11 1L8.5 8.5l.94-2.06 2.06-.94-2.06-.94L8.5 2.5l-.94 2.06-2.06.94zm10 10l.94 2.06.94-2.06 2.06-.94-2.06-.94-.94-2.06-.94 2.06-2.06.94z\"/><path d=\"M17.41 7.96l-1.37-1.37c-.4-.4-.92-.59-1.43-.59-.52 0-1.04.2-1.43.59L10.3 9.45l-7.72 7.72c-.78.78-.78 2.05 0 2.83L4 21.41c.39.39.9.59 1.41.59.51 0 1.02-.2 1.41-.59l7.78-7.78 2.81-2.81c.8-.78.8-2.07 0-2.86zM5.41 20L4 18.59l7.72-7.72 1.47 1.35L5.41 20z\"/>\n",
              "  </svg>\n",
              "      </button>\n",
              "      \n",
              "  <style>\n",
              "    .colab-df-container {\n",
              "      display:flex;\n",
              "      flex-wrap:wrap;\n",
              "      gap: 12px;\n",
              "    }\n",
              "\n",
              "    .colab-df-convert {\n",
              "      background-color: #E8F0FE;\n",
              "      border: none;\n",
              "      border-radius: 50%;\n",
              "      cursor: pointer;\n",
              "      display: none;\n",
              "      fill: #1967D2;\n",
              "      height: 32px;\n",
              "      padding: 0 0 0 0;\n",
              "      width: 32px;\n",
              "    }\n",
              "\n",
              "    .colab-df-convert:hover {\n",
              "      background-color: #E2EBFA;\n",
              "      box-shadow: 0px 1px 2px rgba(60, 64, 67, 0.3), 0px 1px 3px 1px rgba(60, 64, 67, 0.15);\n",
              "      fill: #174EA6;\n",
              "    }\n",
              "\n",
              "    [theme=dark] .colab-df-convert {\n",
              "      background-color: #3B4455;\n",
              "      fill: #D2E3FC;\n",
              "    }\n",
              "\n",
              "    [theme=dark] .colab-df-convert:hover {\n",
              "      background-color: #434B5C;\n",
              "      box-shadow: 0px 1px 3px 1px rgba(0, 0, 0, 0.15);\n",
              "      filter: drop-shadow(0px 1px 2px rgba(0, 0, 0, 0.3));\n",
              "      fill: #FFFFFF;\n",
              "    }\n",
              "  </style>\n",
              "\n",
              "      <script>\n",
              "        const buttonEl =\n",
              "          document.querySelector('#df-9d00ac5f-b2f6-4fe5-9358-b071f4960580 button.colab-df-convert');\n",
              "        buttonEl.style.display =\n",
              "          google.colab.kernel.accessAllowed ? 'block' : 'none';\n",
              "\n",
              "        async function convertToInteractive(key) {\n",
              "          const element = document.querySelector('#df-9d00ac5f-b2f6-4fe5-9358-b071f4960580');\n",
              "          const dataTable =\n",
              "            await google.colab.kernel.invokeFunction('convertToInteractive',\n",
              "                                                     [key], {});\n",
              "          if (!dataTable) return;\n",
              "\n",
              "          const docLinkHtml = 'Like what you see? Visit the ' +\n",
              "            '<a target=\"_blank\" href=https://colab.research.google.com/notebooks/data_table.ipynb>data table notebook</a>'\n",
              "            + ' to learn more about interactive tables.';\n",
              "          element.innerHTML = '';\n",
              "          dataTable['output_type'] = 'display_data';\n",
              "          await google.colab.output.renderOutput(dataTable, element);\n",
              "          const docLink = document.createElement('div');\n",
              "          docLink.innerHTML = docLinkHtml;\n",
              "          element.appendChild(docLink);\n",
              "        }\n",
              "      </script>\n",
              "    </div>\n",
              "  </div>\n",
              "  "
            ]
          },
          "metadata": {},
          "execution_count": 8
        }
      ]
    },
    {
      "cell_type": "code",
      "metadata": {
        "id": "qs2r6-OH9FPE"
      },
      "source": [
        "RawData = RawData.dropna()"
      ],
      "execution_count": null,
      "outputs": []
    },
    {
      "cell_type": "code",
      "metadata": {
        "colab": {
          "base_uri": "https://localhost:8080/",
          "height": 84
        },
        "id": "CefkGoBQ96BO",
        "outputId": "5722647a-e6e3-4e9a-c85c-de7089a16beb"
      },
      "source": [
        "missing_values_table(RawData)"
      ],
      "execution_count": null,
      "outputs": [
        {
          "output_type": "stream",
          "name": "stdout",
          "text": [
            "Your selected dataframe has 28 columns.\n",
            "There are 0 columns that have missing values.\n"
          ]
        },
        {
          "output_type": "execute_result",
          "data": {
            "text/plain": [
              "Empty DataFrame\n",
              "Columns: [Missing Values, % of Total Values]\n",
              "Index: []"
            ],
            "text/html": [
              "\n",
              "  <div id=\"df-6925072d-d5ec-428b-abd4-b3de12a0a94d\">\n",
              "    <div class=\"colab-df-container\">\n",
              "      <div>\n",
              "<style scoped>\n",
              "    .dataframe tbody tr th:only-of-type {\n",
              "        vertical-align: middle;\n",
              "    }\n",
              "\n",
              "    .dataframe tbody tr th {\n",
              "        vertical-align: top;\n",
              "    }\n",
              "\n",
              "    .dataframe thead th {\n",
              "        text-align: right;\n",
              "    }\n",
              "</style>\n",
              "<table border=\"1\" class=\"dataframe\">\n",
              "  <thead>\n",
              "    <tr style=\"text-align: right;\">\n",
              "      <th></th>\n",
              "      <th>Missing Values</th>\n",
              "      <th>% of Total Values</th>\n",
              "    </tr>\n",
              "  </thead>\n",
              "  <tbody>\n",
              "  </tbody>\n",
              "</table>\n",
              "</div>\n",
              "      <button class=\"colab-df-convert\" onclick=\"convertToInteractive('df-6925072d-d5ec-428b-abd4-b3de12a0a94d')\"\n",
              "              title=\"Convert this dataframe to an interactive table.\"\n",
              "              style=\"display:none;\">\n",
              "        \n",
              "  <svg xmlns=\"http://www.w3.org/2000/svg\" height=\"24px\"viewBox=\"0 0 24 24\"\n",
              "       width=\"24px\">\n",
              "    <path d=\"M0 0h24v24H0V0z\" fill=\"none\"/>\n",
              "    <path d=\"M18.56 5.44l.94 2.06.94-2.06 2.06-.94-2.06-.94-.94-2.06-.94 2.06-2.06.94zm-11 1L8.5 8.5l.94-2.06 2.06-.94-2.06-.94L8.5 2.5l-.94 2.06-2.06.94zm10 10l.94 2.06.94-2.06 2.06-.94-2.06-.94-.94-2.06-.94 2.06-2.06.94z\"/><path d=\"M17.41 7.96l-1.37-1.37c-.4-.4-.92-.59-1.43-.59-.52 0-1.04.2-1.43.59L10.3 9.45l-7.72 7.72c-.78.78-.78 2.05 0 2.83L4 21.41c.39.39.9.59 1.41.59.51 0 1.02-.2 1.41-.59l7.78-7.78 2.81-2.81c.8-.78.8-2.07 0-2.86zM5.41 20L4 18.59l7.72-7.72 1.47 1.35L5.41 20z\"/>\n",
              "  </svg>\n",
              "      </button>\n",
              "      \n",
              "  <style>\n",
              "    .colab-df-container {\n",
              "      display:flex;\n",
              "      flex-wrap:wrap;\n",
              "      gap: 12px;\n",
              "    }\n",
              "\n",
              "    .colab-df-convert {\n",
              "      background-color: #E8F0FE;\n",
              "      border: none;\n",
              "      border-radius: 50%;\n",
              "      cursor: pointer;\n",
              "      display: none;\n",
              "      fill: #1967D2;\n",
              "      height: 32px;\n",
              "      padding: 0 0 0 0;\n",
              "      width: 32px;\n",
              "    }\n",
              "\n",
              "    .colab-df-convert:hover {\n",
              "      background-color: #E2EBFA;\n",
              "      box-shadow: 0px 1px 2px rgba(60, 64, 67, 0.3), 0px 1px 3px 1px rgba(60, 64, 67, 0.15);\n",
              "      fill: #174EA6;\n",
              "    }\n",
              "\n",
              "    [theme=dark] .colab-df-convert {\n",
              "      background-color: #3B4455;\n",
              "      fill: #D2E3FC;\n",
              "    }\n",
              "\n",
              "    [theme=dark] .colab-df-convert:hover {\n",
              "      background-color: #434B5C;\n",
              "      box-shadow: 0px 1px 3px 1px rgba(0, 0, 0, 0.15);\n",
              "      filter: drop-shadow(0px 1px 2px rgba(0, 0, 0, 0.3));\n",
              "      fill: #FFFFFF;\n",
              "    }\n",
              "  </style>\n",
              "\n",
              "      <script>\n",
              "        const buttonEl =\n",
              "          document.querySelector('#df-6925072d-d5ec-428b-abd4-b3de12a0a94d button.colab-df-convert');\n",
              "        buttonEl.style.display =\n",
              "          google.colab.kernel.accessAllowed ? 'block' : 'none';\n",
              "\n",
              "        async function convertToInteractive(key) {\n",
              "          const element = document.querySelector('#df-6925072d-d5ec-428b-abd4-b3de12a0a94d');\n",
              "          const dataTable =\n",
              "            await google.colab.kernel.invokeFunction('convertToInteractive',\n",
              "                                                     [key], {});\n",
              "          if (!dataTable) return;\n",
              "\n",
              "          const docLinkHtml = 'Like what you see? Visit the ' +\n",
              "            '<a target=\"_blank\" href=https://colab.research.google.com/notebooks/data_table.ipynb>data table notebook</a>'\n",
              "            + ' to learn more about interactive tables.';\n",
              "          element.innerHTML = '';\n",
              "          dataTable['output_type'] = 'display_data';\n",
              "          await google.colab.output.renderOutput(dataTable, element);\n",
              "          const docLink = document.createElement('div');\n",
              "          docLink.innerHTML = docLinkHtml;\n",
              "          element.appendChild(docLink);\n",
              "        }\n",
              "      </script>\n",
              "    </div>\n",
              "  </div>\n",
              "  "
            ]
          },
          "metadata": {},
          "execution_count": 10
        }
      ]
    },
    {
      "cell_type": "markdown",
      "metadata": {
        "id": "9CKQfsGH_lcQ"
      },
      "source": [
        "Нужно получить общее кол-во прдуктов - это будет целевой функцией\n"
      ]
    },
    {
      "cell_type": "code",
      "metadata": {
        "id": "_h9bgiqg-4qx"
      },
      "source": [
        "RawData['Mnt'] = RawData[['MntWines',\t'MntFruits',\t'MntMeatProducts',\t'MntFishProducts',\t'MntSweetProducts',\t'MntGoldProds']].sum(axis=1)"
      ],
      "execution_count": null,
      "outputs": []
    },
    {
      "cell_type": "code",
      "metadata": {
        "id": "CrmmkhHCCYAj"
      },
      "source": [
        "RawData = RawData.drop(columns=['MntWines',\t'MntFruits',\t'MntMeatProducts',\t'MntFishProducts',\t'MntSweetProducts',\t'MntGoldProds'])"
      ],
      "execution_count": null,
      "outputs": []
    },
    {
      "cell_type": "code",
      "metadata": {
        "id": "xhyoSZlTC5tN",
        "colab": {
          "base_uri": "https://localhost:8080/",
          "height": 236
        },
        "outputId": "35124378-1fc7-4422-f6f3-7916735b3c39"
      },
      "source": [
        "RawData.head()"
      ],
      "execution_count": null,
      "outputs": [
        {
          "output_type": "execute_result",
          "data": {
            "text/plain": [
              "      ID  Year_Birth   Education Marital_Status      Income   Kidhome  \\\n",
              "0   1826        1970  Graduation       Divorced  $84,835.00         0   \n",
              "1      1        1961  Graduation         Single  $57,091.00         0   \n",
              "2  10476        1958  Graduation        Married  $67,267.00         0   \n",
              "3   1386        1967  Graduation       Together  $32,474.00         1   \n",
              "4   5371        1989  Graduation         Single  $21,474.00         1   \n",
              "\n",
              "   Teenhome Dt_Customer  Recency  NumDealsPurchases  ...  NumWebVisitsMonth  \\\n",
              "0         0     6/16/14        0                  1  ...                  1   \n",
              "1         0     6/15/14        0                  1  ...                  5   \n",
              "2         1     5/13/14        0                  1  ...                  2   \n",
              "3         1     5/11/14        0                  1  ...                  7   \n",
              "4         0      4/8/14        0                  2  ...                  7   \n",
              "\n",
              "   AcceptedCmp3  AcceptedCmp4  AcceptedCmp5  AcceptedCmp1  AcceptedCmp2  \\\n",
              "0             0             0             0             0             0   \n",
              "1             0             0             0             0             1   \n",
              "2             0             0             0             0             0   \n",
              "3             0             0             0             0             0   \n",
              "4             1             0             0             0             0   \n",
              "\n",
              "   Response  Complain  Country   Mnt  \n",
              "0         1         0       SP  1190  \n",
              "1         1         0       CA   577  \n",
              "2         0         0       US   251  \n",
              "3         0         0      AUS    11  \n",
              "4         1         0       SP    91  \n",
              "\n",
              "[5 rows x 23 columns]"
            ],
            "text/html": [
              "\n",
              "  <div id=\"df-e48da63d-f26c-43ea-9469-23cfc6e76dfa\">\n",
              "    <div class=\"colab-df-container\">\n",
              "      <div>\n",
              "<style scoped>\n",
              "    .dataframe tbody tr th:only-of-type {\n",
              "        vertical-align: middle;\n",
              "    }\n",
              "\n",
              "    .dataframe tbody tr th {\n",
              "        vertical-align: top;\n",
              "    }\n",
              "\n",
              "    .dataframe thead th {\n",
              "        text-align: right;\n",
              "    }\n",
              "</style>\n",
              "<table border=\"1\" class=\"dataframe\">\n",
              "  <thead>\n",
              "    <tr style=\"text-align: right;\">\n",
              "      <th></th>\n",
              "      <th>ID</th>\n",
              "      <th>Year_Birth</th>\n",
              "      <th>Education</th>\n",
              "      <th>Marital_Status</th>\n",
              "      <th>Income</th>\n",
              "      <th>Kidhome</th>\n",
              "      <th>Teenhome</th>\n",
              "      <th>Dt_Customer</th>\n",
              "      <th>Recency</th>\n",
              "      <th>NumDealsPurchases</th>\n",
              "      <th>...</th>\n",
              "      <th>NumWebVisitsMonth</th>\n",
              "      <th>AcceptedCmp3</th>\n",
              "      <th>AcceptedCmp4</th>\n",
              "      <th>AcceptedCmp5</th>\n",
              "      <th>AcceptedCmp1</th>\n",
              "      <th>AcceptedCmp2</th>\n",
              "      <th>Response</th>\n",
              "      <th>Complain</th>\n",
              "      <th>Country</th>\n",
              "      <th>Mnt</th>\n",
              "    </tr>\n",
              "  </thead>\n",
              "  <tbody>\n",
              "    <tr>\n",
              "      <th>0</th>\n",
              "      <td>1826</td>\n",
              "      <td>1970</td>\n",
              "      <td>Graduation</td>\n",
              "      <td>Divorced</td>\n",
              "      <td>$84,835.00</td>\n",
              "      <td>0</td>\n",
              "      <td>0</td>\n",
              "      <td>6/16/14</td>\n",
              "      <td>0</td>\n",
              "      <td>1</td>\n",
              "      <td>...</td>\n",
              "      <td>1</td>\n",
              "      <td>0</td>\n",
              "      <td>0</td>\n",
              "      <td>0</td>\n",
              "      <td>0</td>\n",
              "      <td>0</td>\n",
              "      <td>1</td>\n",
              "      <td>0</td>\n",
              "      <td>SP</td>\n",
              "      <td>1190</td>\n",
              "    </tr>\n",
              "    <tr>\n",
              "      <th>1</th>\n",
              "      <td>1</td>\n",
              "      <td>1961</td>\n",
              "      <td>Graduation</td>\n",
              "      <td>Single</td>\n",
              "      <td>$57,091.00</td>\n",
              "      <td>0</td>\n",
              "      <td>0</td>\n",
              "      <td>6/15/14</td>\n",
              "      <td>0</td>\n",
              "      <td>1</td>\n",
              "      <td>...</td>\n",
              "      <td>5</td>\n",
              "      <td>0</td>\n",
              "      <td>0</td>\n",
              "      <td>0</td>\n",
              "      <td>0</td>\n",
              "      <td>1</td>\n",
              "      <td>1</td>\n",
              "      <td>0</td>\n",
              "      <td>CA</td>\n",
              "      <td>577</td>\n",
              "    </tr>\n",
              "    <tr>\n",
              "      <th>2</th>\n",
              "      <td>10476</td>\n",
              "      <td>1958</td>\n",
              "      <td>Graduation</td>\n",
              "      <td>Married</td>\n",
              "      <td>$67,267.00</td>\n",
              "      <td>0</td>\n",
              "      <td>1</td>\n",
              "      <td>5/13/14</td>\n",
              "      <td>0</td>\n",
              "      <td>1</td>\n",
              "      <td>...</td>\n",
              "      <td>2</td>\n",
              "      <td>0</td>\n",
              "      <td>0</td>\n",
              "      <td>0</td>\n",
              "      <td>0</td>\n",
              "      <td>0</td>\n",
              "      <td>0</td>\n",
              "      <td>0</td>\n",
              "      <td>US</td>\n",
              "      <td>251</td>\n",
              "    </tr>\n",
              "    <tr>\n",
              "      <th>3</th>\n",
              "      <td>1386</td>\n",
              "      <td>1967</td>\n",
              "      <td>Graduation</td>\n",
              "      <td>Together</td>\n",
              "      <td>$32,474.00</td>\n",
              "      <td>1</td>\n",
              "      <td>1</td>\n",
              "      <td>5/11/14</td>\n",
              "      <td>0</td>\n",
              "      <td>1</td>\n",
              "      <td>...</td>\n",
              "      <td>7</td>\n",
              "      <td>0</td>\n",
              "      <td>0</td>\n",
              "      <td>0</td>\n",
              "      <td>0</td>\n",
              "      <td>0</td>\n",
              "      <td>0</td>\n",
              "      <td>0</td>\n",
              "      <td>AUS</td>\n",
              "      <td>11</td>\n",
              "    </tr>\n",
              "    <tr>\n",
              "      <th>4</th>\n",
              "      <td>5371</td>\n",
              "      <td>1989</td>\n",
              "      <td>Graduation</td>\n",
              "      <td>Single</td>\n",
              "      <td>$21,474.00</td>\n",
              "      <td>1</td>\n",
              "      <td>0</td>\n",
              "      <td>4/8/14</td>\n",
              "      <td>0</td>\n",
              "      <td>2</td>\n",
              "      <td>...</td>\n",
              "      <td>7</td>\n",
              "      <td>1</td>\n",
              "      <td>0</td>\n",
              "      <td>0</td>\n",
              "      <td>0</td>\n",
              "      <td>0</td>\n",
              "      <td>1</td>\n",
              "      <td>0</td>\n",
              "      <td>SP</td>\n",
              "      <td>91</td>\n",
              "    </tr>\n",
              "  </tbody>\n",
              "</table>\n",
              "<p>5 rows × 23 columns</p>\n",
              "</div>\n",
              "      <button class=\"colab-df-convert\" onclick=\"convertToInteractive('df-e48da63d-f26c-43ea-9469-23cfc6e76dfa')\"\n",
              "              title=\"Convert this dataframe to an interactive table.\"\n",
              "              style=\"display:none;\">\n",
              "        \n",
              "  <svg xmlns=\"http://www.w3.org/2000/svg\" height=\"24px\"viewBox=\"0 0 24 24\"\n",
              "       width=\"24px\">\n",
              "    <path d=\"M0 0h24v24H0V0z\" fill=\"none\"/>\n",
              "    <path d=\"M18.56 5.44l.94 2.06.94-2.06 2.06-.94-2.06-.94-.94-2.06-.94 2.06-2.06.94zm-11 1L8.5 8.5l.94-2.06 2.06-.94-2.06-.94L8.5 2.5l-.94 2.06-2.06.94zm10 10l.94 2.06.94-2.06 2.06-.94-2.06-.94-.94-2.06-.94 2.06-2.06.94z\"/><path d=\"M17.41 7.96l-1.37-1.37c-.4-.4-.92-.59-1.43-.59-.52 0-1.04.2-1.43.59L10.3 9.45l-7.72 7.72c-.78.78-.78 2.05 0 2.83L4 21.41c.39.39.9.59 1.41.59.51 0 1.02-.2 1.41-.59l7.78-7.78 2.81-2.81c.8-.78.8-2.07 0-2.86zM5.41 20L4 18.59l7.72-7.72 1.47 1.35L5.41 20z\"/>\n",
              "  </svg>\n",
              "      </button>\n",
              "      \n",
              "  <style>\n",
              "    .colab-df-container {\n",
              "      display:flex;\n",
              "      flex-wrap:wrap;\n",
              "      gap: 12px;\n",
              "    }\n",
              "\n",
              "    .colab-df-convert {\n",
              "      background-color: #E8F0FE;\n",
              "      border: none;\n",
              "      border-radius: 50%;\n",
              "      cursor: pointer;\n",
              "      display: none;\n",
              "      fill: #1967D2;\n",
              "      height: 32px;\n",
              "      padding: 0 0 0 0;\n",
              "      width: 32px;\n",
              "    }\n",
              "\n",
              "    .colab-df-convert:hover {\n",
              "      background-color: #E2EBFA;\n",
              "      box-shadow: 0px 1px 2px rgba(60, 64, 67, 0.3), 0px 1px 3px 1px rgba(60, 64, 67, 0.15);\n",
              "      fill: #174EA6;\n",
              "    }\n",
              "\n",
              "    [theme=dark] .colab-df-convert {\n",
              "      background-color: #3B4455;\n",
              "      fill: #D2E3FC;\n",
              "    }\n",
              "\n",
              "    [theme=dark] .colab-df-convert:hover {\n",
              "      background-color: #434B5C;\n",
              "      box-shadow: 0px 1px 3px 1px rgba(0, 0, 0, 0.15);\n",
              "      filter: drop-shadow(0px 1px 2px rgba(0, 0, 0, 0.3));\n",
              "      fill: #FFFFFF;\n",
              "    }\n",
              "  </style>\n",
              "\n",
              "      <script>\n",
              "        const buttonEl =\n",
              "          document.querySelector('#df-e48da63d-f26c-43ea-9469-23cfc6e76dfa button.colab-df-convert');\n",
              "        buttonEl.style.display =\n",
              "          google.colab.kernel.accessAllowed ? 'block' : 'none';\n",
              "\n",
              "        async function convertToInteractive(key) {\n",
              "          const element = document.querySelector('#df-e48da63d-f26c-43ea-9469-23cfc6e76dfa');\n",
              "          const dataTable =\n",
              "            await google.colab.kernel.invokeFunction('convertToInteractive',\n",
              "                                                     [key], {});\n",
              "          if (!dataTable) return;\n",
              "\n",
              "          const docLinkHtml = 'Like what you see? Visit the ' +\n",
              "            '<a target=\"_blank\" href=https://colab.research.google.com/notebooks/data_table.ipynb>data table notebook</a>'\n",
              "            + ' to learn more about interactive tables.';\n",
              "          element.innerHTML = '';\n",
              "          dataTable['output_type'] = 'display_data';\n",
              "          await google.colab.output.renderOutput(dataTable, element);\n",
              "          const docLink = document.createElement('div');\n",
              "          docLink.innerHTML = docLinkHtml;\n",
              "          element.appendChild(docLink);\n",
              "        }\n",
              "      </script>\n",
              "    </div>\n",
              "  </div>\n",
              "  "
            ]
          },
          "metadata": {},
          "execution_count": 13
        }
      ]
    },
    {
      "cell_type": "code",
      "metadata": {
        "id": "9g6GH2I5v9-H"
      },
      "source": [
        "#строки  Id, Dt_Customer не несет в себе ценности для исследования -> удаляем их\n",
        "RawData = RawData.drop(columns=['ID', 'Dt_Customer'])"
      ],
      "execution_count": null,
      "outputs": []
    },
    {
      "cell_type": "code",
      "metadata": {
        "id": "ujEwwHtExhkh"
      },
      "source": [
        "#Столбец Income содержит важную информацию о доходе клиента, но представлен в некомфортном для обработки и анализа виде. Изменим его для комфортной работы\n",
        "import string\n",
        "RawData = RawData.replace(r'[{}]'.format(string.punctuation), '', regex=True)\n",
        "RawData[' Income '] = pd.to_numeric(RawData[' Income '])\n",
        "RawData[' Income '] /= 100"
      ],
      "execution_count": null,
      "outputs": []
    },
    {
      "cell_type": "markdown",
      "metadata": {
        "id": "AvrbUxYSUsIO"
      },
      "source": [
        "2) Однопеременные графики и проверка датасета на наличие выбросов"
      ]
    },
    {
      "cell_type": "code",
      "metadata": {
        "colab": {
          "base_uri": "https://localhost:8080/",
          "height": 564
        },
        "id": "rvlvV6iQ2vaU",
        "outputId": "b1fed3a1-366a-4f02-b48b-056d22922b2c"
      },
      "source": [
        "#График целевой функции\n",
        "from IPython.core.pylabtools import figsize\n",
        "import matplotlib.pyplot as plt\n",
        "%matplotlib inline\n",
        "figsize(8, 8)\n",
        "plt.style.use('fivethirtyeight')\n",
        "plt.hist(RawData['Mnt'].dropna(), bins = 100, edgecolor = 'k');\n",
        "plt.xlabel('mnt'); plt.ylabel('ppl'); \n",
        "plt.title('Product Bought');"
      ],
      "execution_count": null,
      "outputs": [
        {
          "output_type": "display_data",
          "data": {
            "text/plain": [
              "<Figure size 576x576 with 1 Axes>"
            ],
            "image/png": "[encoded data removed]"
          },
          "metadata": {}
        }
      ]
    },
    {
      "cell_type": "markdown",
      "metadata": {
        "id": "hf_GtxEuVACs"
      },
      "source": [
        "График имеет сильный перекос. Так же имеются выбросы. Попытаемся что-то с этим сделать"
      ]
    },
    {
      "cell_type": "code",
      "metadata": {
        "colab": {
          "base_uri": "https://localhost:8080/"
        },
        "id": "7SQpcq1b-lXk",
        "outputId": "fd889a4f-d3f2-4e6a-e662-1a8eace0b41b"
      },
      "source": [
        "RawData['Mnt'].describe()"
      ],
      "execution_count": null,
      "outputs": [
        {
          "output_type": "execute_result",
          "data": {
            "text/plain": [
              "count    2216.000000\n",
              "mean      607.075361\n",
              "std       602.900476\n",
              "min         5.000000\n",
              "25%        69.000000\n",
              "50%       396.500000\n",
              "75%      1048.000000\n",
              "max      2525.000000\n",
              "Name: Mnt, dtype: float64"
            ]
          },
          "metadata": {},
          "execution_count": 17
        }
      ]
    },
    {
      "cell_type": "code",
      "metadata": {
        "id": "zHiPNfft_FFO"
      },
      "source": [
        "#Попытаемся избавиться от выбросов с помощью интерквартильного расстояния\n",
        "first_quartile = RawData['Mnt'].describe()['25%']\n",
        "third_quartile = RawData['Mnt'].describe()['75%']\n",
        "\n",
        "iqr = third_quartile - first_quartile\n",
        "\n",
        "RawData = RawData[(RawData['Mnt'] > (first_quartile -  iqr)) &\n",
        "            (RawData['Mnt'] < (third_quartile + iqr))]"
      ],
      "execution_count": null,
      "outputs": []
    },
    {
      "cell_type": "code",
      "metadata": {
        "colab": {
          "base_uri": "https://localhost:8080/",
          "height": 564
        },
        "id": "ZuLaMT6e_lH5",
        "outputId": "b93622c8-097a-449d-8d51-81d2ab58bb06"
      },
      "source": [
        "#Выгядит уже лучше, к сожалению придется работать с такими данными, так как наблюдений не очень много\n",
        "figsize(8, 8)\n",
        "plt.style.use('fivethirtyeight')\n",
        "plt.hist(RawData['Mnt'].dropna(), bins = 100, edgecolor = 'k');\n",
        "plt.xlabel('mnt'); plt.ylabel('ppl'); \n",
        "plt.title('Product Bought');"
      ],
      "execution_count": null,
      "outputs": [
        {
          "output_type": "display_data",
          "data": {
            "text/plain": [
              "<Figure size 576x576 with 1 Axes>"
            ],
            "image/png": "[encoded data removed]"
          },
          "metadata": {}
        }
      ]
    },
    {
      "cell_type": "code",
      "metadata": {
        "colab": {
          "base_uri": "https://localhost:8080/",
          "height": 542
        },
        "id": "OdrbpfZA4ll0",
        "outputId": "9118e06a-f478-4ae1-db09-68fcf58f3256"
      },
      "source": [
        "#По графику видно наличие выбросов\n",
        "figsize(8, 8)\n",
        "\n",
        "plt.hist(RawData[' Income '].dropna(), bins = 100, edgecolor = 'k');\n",
        "plt.xlabel(''); plt.ylabel(''); \n",
        "plt.title('Buyers wealth');"
      ],
      "execution_count": null,
      "outputs": [
        {
          "output_type": "display_data",
          "data": {
            "text/plain": [
              "<Figure size 576x576 with 1 Axes>"
            ],
            "image/png": "[encoded data removed]"
          },
          "metadata": {}
        }
      ]
    },
    {
      "cell_type": "code",
      "metadata": {
        "colab": {
          "base_uri": "https://localhost:8080/"
        },
        "id": "QzIcIeaa9SKl",
        "outputId": "696576e0-d992-4d01-f273-a2b9de40363b"
      },
      "source": [
        "RawData[' Income '].describe()"
      ],
      "execution_count": null,
      "outputs": [
        {
          "output_type": "execute_result",
          "data": {
            "text/plain": [
              "count      2172.000000\n",
              "mean      51631.679558\n",
              "std       25022.424766\n",
              "min        1730.000000\n",
              "25%       34930.250000\n",
              "50%       50733.000000\n",
              "75%       67421.750000\n",
              "max      666666.000000\n",
              "Name:  Income , dtype: float64"
            ]
          },
          "metadata": {},
          "execution_count": 21
        }
      ]
    },
    {
      "cell_type": "code",
      "metadata": {
        "colab": {
          "base_uri": "https://localhost:8080/"
        },
        "id": "Qcr1tU4rsuhG",
        "outputId": "c26f8926-6b8c-4e2e-f786-af84d4771308"
      },
      "source": [
        "RawData[' Income '].sort_values().tail(10)"
      ],
      "execution_count": null,
      "outputs": [
        {
          "output_type": "execute_result",
          "data": {
            "text/plain": [
              "832     105471.0\n",
              "210     113734.0\n",
              "1826    153924.0\n",
              "1925    156924.0\n",
              "325     157146.0\n",
              "2204    157243.0\n",
              "853     157733.0\n",
              "497     160803.0\n",
              "731     162397.0\n",
              "527     666666.0\n",
              "Name:  Income , dtype: float64"
            ]
          },
          "metadata": {},
          "execution_count": 22
        }
      ]
    },
    {
      "cell_type": "code",
      "metadata": {
        "id": "kcNC9nEhtC7-"
      },
      "source": [
        "#Значение в строке 527 некорректно -> Удаляем\n",
        "RawData = RawData.drop(index=527)\n"
      ],
      "execution_count": null,
      "outputs": []
    },
    {
      "cell_type": "code",
      "metadata": {
        "colab": {
          "base_uri": "https://localhost:8080/"
        },
        "id": "qxjNi0XlzytQ",
        "outputId": "923de460-02ed-4e7c-8e99-49d5fa1f4c4f"
      },
      "source": [
        "RawData[' Income '].sort_values().tail(10)"
      ],
      "execution_count": null,
      "outputs": [
        {
          "output_type": "execute_result",
          "data": {
            "text/plain": [
              "142     102692.0\n",
              "832     105471.0\n",
              "210     113734.0\n",
              "1826    153924.0\n",
              "1925    156924.0\n",
              "325     157146.0\n",
              "2204    157243.0\n",
              "853     157733.0\n",
              "497     160803.0\n",
              "731     162397.0\n",
              "Name:  Income , dtype: float64"
            ]
          },
          "metadata": {},
          "execution_count": 24
        }
      ]
    },
    {
      "cell_type": "markdown",
      "metadata": {
        "id": "0m140WivWXAX"
      },
      "source": []
    },
    {
      "cell_type": "code",
      "metadata": {
        "colab": {
          "base_uri": "https://localhost:8080/"
        },
        "id": "nEd6xYKr1p9f",
        "outputId": "ef622001-4d4c-4c5a-c4be-63cb315d68bb"
      },
      "source": [
        "# Посмотрим на корреляции целефой функции с данными\n",
        "correlations_data = RawData.corr()['Mnt'].sort_values()\n",
        "\n",
        "print(correlations_data.head(23), '\\n')"
      ],
      "execution_count": null,
      "outputs": [
        {
          "output_type": "stream",
          "name": "stdout",
          "text": [
            "Kidhome               -0.560718\n",
            "NumWebVisitsMonth     -0.488713\n",
            "Year_Birth            -0.130122\n",
            "Teenhome              -0.101590\n",
            "Complain              -0.034816\n",
            "NumDealsPurchases     -0.027684\n",
            "Recency                0.014247\n",
            "AcceptedCmp3           0.037567\n",
            "AcceptedCmp2           0.145057\n",
            "AcceptedCmp4           0.228403\n",
            "Response               0.231297\n",
            "AcceptedCmp1           0.336071\n",
            "AcceptedCmp5           0.427297\n",
            "NumWebPurchases        0.546353\n",
            "NumStorePurchases      0.684984\n",
            "NumCatalogPurchases    0.784661\n",
            " Income                0.790667\n",
            "Mnt                    1.000000\n",
            "Name: Mnt, dtype: float64 \n",
            "\n"
          ]
        }
      ]
    },
    {
      "cell_type": "markdown",
      "metadata": {
        "id": "siaTfiJ2W4L8"
      },
      "source": [
        "Не зря мы обратили внимание на столбец Income и избавились от выбросов. У этотого столбца самая сильная корреляция с целевой функцией"
      ]
    },
    {
      "cell_type": "markdown",
      "metadata": {
        "id": "2iUDAb6SXUFX"
      },
      "source": [
        "3)Feature engeneering"
      ]
    },
    {
      "cell_type": "code",
      "metadata": {
        "colab": {
          "base_uri": "https://localhost:8080/"
        },
        "id": "0mKlOunw5gNO",
        "outputId": "2ca0e7ff-5f80-4724-fcf9-0e0b6f046a69"
      },
      "source": [
        "#Возьмем натуральные логарифмы от числовых данных и категоризируем данные\n",
        "features = RawData.copy()\n",
        "numeric_subset = RawData.select_dtypes('number')\n",
        "\n",
        "for col in numeric_subset.columns:\n",
        "  if col == 'Mnt':\n",
        "    next\n",
        "  else:\n",
        "      numeric_subset['log_' + col] = np.log(numeric_subset[col])\n",
        "  \n",
        "categorical_subset = RawData[['Education', 'Marital_Status', 'Country']]\n",
        "\n",
        "categorical_subset = pd.get_dummies(categorical_subset)\n",
        "\n",
        "features = pd.concat([numeric_subset, categorical_subset], axis = 1)\n",
        "\n",
        "features.shape"
      ],
      "execution_count": null,
      "outputs": [
        {
          "output_type": "stream",
          "name": "stderr",
          "text": [
            "/usr/local/lib/python3.7/dist-packages/pandas/core/arraylike.py:364: RuntimeWarning: divide by zero encountered in log\n",
            "  result = getattr(ufunc, method)(*inputs, **kwargs)\n"
          ]
        },
        {
          "output_type": "execute_result",
          "data": {
            "text/plain": [
              "(2171, 56)"
            ]
          },
          "metadata": {},
          "execution_count": 26
        }
      ]
    },
    {
      "cell_type": "code",
      "metadata": {
        "colab": {
          "base_uri": "https://localhost:8080/",
          "height": 468
        },
        "id": "A4jxZQx27xfA",
        "outputId": "5f02fe07-3ab4-40b6-96b3-de9241884299"
      },
      "source": [
        "features"
      ],
      "execution_count": null,
      "outputs": [
        {
          "output_type": "execute_result",
          "data": {
            "text/plain": [
              "      Year_Birth   Income   Kidhome  Teenhome  Recency  NumDealsPurchases  \\\n",
              "0           1970   84835.0        0         0        0                  1   \n",
              "1           1961   57091.0        0         0        0                  1   \n",
              "2           1958   67267.0        0         1        0                  1   \n",
              "3           1967   32474.0        1         1        0                  1   \n",
              "4           1989   21474.0        1         0        0                  2   \n",
              "...          ...       ...      ...       ...      ...                ...   \n",
              "2235        1976   66476.0        0         1       99                  2   \n",
              "2236        1977   31056.0        1         0       99                  1   \n",
              "2237        1976   46310.0        1         0       99                  2   \n",
              "2238        1978   65819.0        0         0       99                  1   \n",
              "2239        1969   94871.0        0         2       99                  1   \n",
              "\n",
              "      NumWebPurchases  NumCatalogPurchases  NumStorePurchases  \\\n",
              "0                   4                    4                  6   \n",
              "1                   7                    3                  7   \n",
              "2                   3                    2                  5   \n",
              "3                   1                    0                  2   \n",
              "4                   3                    1                  2   \n",
              "...               ...                  ...                ...   \n",
              "2235                5                    2                 11   \n",
              "2236                1                    0                  3   \n",
              "2237                6                    1                  5   \n",
              "2238                5                    4                 10   \n",
              "2239                8                    5                  4   \n",
              "\n",
              "      NumWebVisitsMonth  ...  Marital_Status_Widow  Marital_Status_YOLO  \\\n",
              "0                     1  ...                     0                    0   \n",
              "1                     5  ...                     0                    0   \n",
              "2                     2  ...                     0                    0   \n",
              "3                     7  ...                     0                    0   \n",
              "4                     7  ...                     0                    0   \n",
              "...                 ...  ...                   ...                  ...   \n",
              "2235                  4  ...                     0                    0   \n",
              "2236                  8  ...                     0                    0   \n",
              "2237                  8  ...                     0                    0   \n",
              "2238                  3  ...                     0                    0   \n",
              "2239                  7  ...                     0                    0   \n",
              "\n",
              "      Country_AUS  Country_CA  Country_GER  Country_IND  Country_ME  \\\n",
              "0               0           0            0            0           0   \n",
              "1               0           1            0            0           0   \n",
              "2               0           0            0            0           0   \n",
              "3               1           0            0            0           0   \n",
              "4               0           0            0            0           0   \n",
              "...           ...         ...          ...          ...         ...   \n",
              "2235            0           0            0            0           0   \n",
              "2236            0           0            0            0           0   \n",
              "2237            0           0            0            0           0   \n",
              "2238            0           0            0            1           0   \n",
              "2239            0           1            0            0           0   \n",
              "\n",
              "      Country_SA  Country_SP  Country_US  \n",
              "0              0           1           0  \n",
              "1              0           0           0  \n",
              "2              0           0           1  \n",
              "3              0           0           0  \n",
              "4              0           1           0  \n",
              "...          ...         ...         ...  \n",
              "2235           0           0           1  \n",
              "2236           0           1           0  \n",
              "2237           0           1           0  \n",
              "2238           0           0           0  \n",
              "2239           0           0           0  \n",
              "\n",
              "[2171 rows x 56 columns]"
            ],
            "text/html": [
              "\n",
              "  <div id=\"df-5d5038a3-e75d-41e5-9a55-b0ab0ed2bb6c\">\n",
              "    <div class=\"colab-df-container\">\n",
              "      <div>\n",
              "<style scoped>\n",
              "    .dataframe tbody tr th:only-of-type {\n",
              "        vertical-align: middle;\n",
              "    }\n",
              "\n",
              "    .dataframe tbody tr th {\n",
              "        vertical-align: top;\n",
              "    }\n",
              "\n",
              "    .dataframe thead th {\n",
              "        text-align: right;\n",
              "    }\n",
              "</style>\n",
              "<table border=\"1\" class=\"dataframe\">\n",
              "  <thead>\n",
              "    <tr style=\"text-align: right;\">\n",
              "      <th></th>\n",
              "      <th>Year_Birth</th>\n",
              "      <th>Income</th>\n",
              "      <th>Kidhome</th>\n",
              "      <th>Teenhome</th>\n",
              "      <th>Recency</th>\n",
              "      <th>NumDealsPurchases</th>\n",
              "      <th>NumWebPurchases</th>\n",
              "      <th>NumCatalogPurchases</th>\n",
              "      <th>NumStorePurchases</th>\n",
              "      <th>NumWebVisitsMonth</th>\n",
              "      <th>...</th>\n",
              "      <th>Marital_Status_Widow</th>\n",
              "      <th>Marital_Status_YOLO</th>\n",
              "      <th>Country_AUS</th>\n",
              "      <th>Country_CA</th>\n",
              "      <th>Country_GER</th>\n",
              "      <th>Country_IND</th>\n",
              "      <th>Country_ME</th>\n",
              "      <th>Country_SA</th>\n",
              "      <th>Country_SP</th>\n",
              "      <th>Country_US</th>\n",
              "    </tr>\n",
              "  </thead>\n",
              "  <tbody>\n",
              "    <tr>\n",
              "      <th>0</th>\n",
              "      <td>1970</td>\n",
              "      <td>84835.0</td>\n",
              "      <td>0</td>\n",
              "      <td>0</td>\n",
              "      <td>0</td>\n",
              "      <td>1</td>\n",
              "      <td>4</td>\n",
              "      <td>4</td>\n",
              "      <td>6</td>\n",
              "      <td>1</td>\n",
              "      <td>...</td>\n",
              "      <td>0</td>\n",
              "      <td>0</td>\n",
              "      <td>0</td>\n",
              "      <td>0</td>\n",
              "      <td>0</td>\n",
              "      <td>0</td>\n",
              "      <td>0</td>\n",
              "      <td>0</td>\n",
              "      <td>1</td>\n",
              "      <td>0</td>\n",
              "    </tr>\n",
              "    <tr>\n",
              "      <th>1</th>\n",
              "      <td>1961</td>\n",
              "      <td>57091.0</td>\n",
              "      <td>0</td>\n",
              "      <td>0</td>\n",
              "      <td>0</td>\n",
              "      <td>1</td>\n",
              "      <td>7</td>\n",
              "      <td>3</td>\n",
              "      <td>7</td>\n",
              "      <td>5</td>\n",
              "      <td>...</td>\n",
              "      <td>0</td>\n",
              "      <td>0</td>\n",
              "      <td>0</td>\n",
              "      <td>1</td>\n",
              "      <td>0</td>\n",
              "      <td>0</td>\n",
              "      <td>0</td>\n",
              "      <td>0</td>\n",
              "      <td>0</td>\n",
              "      <td>0</td>\n",
              "    </tr>\n",
              "    <tr>\n",
              "      <th>2</th>\n",
              "      <td>1958</td>\n",
              "      <td>67267.0</td>\n",
              "      <td>0</td>\n",
              "      <td>1</td>\n",
              "      <td>0</td>\n",
              "      <td>1</td>\n",
              "      <td>3</td>\n",
              "      <td>2</td>\n",
              "      <td>5</td>\n",
              "      <td>2</td>\n",
              "      <td>...</td>\n",
              "      <td>0</td>\n",
              "      <td>0</td>\n",
              "      <td>0</td>\n",
              "      <td>0</td>\n",
              "      <td>0</td>\n",
              "      <td>0</td>\n",
              "      <td>0</td>\n",
              "      <td>0</td>\n",
              "      <td>0</td>\n",
              "      <td>1</td>\n",
              "    </tr>\n",
              "    <tr>\n",
              "      <th>3</th>\n",
              "      <td>1967</td>\n",
              "      <td>32474.0</td>\n",
              "      <td>1</td>\n",
              "      <td>1</td>\n",
              "      <td>0</td>\n",
              "      <td>1</td>\n",
              "      <td>1</td>\n",
              "      <td>0</td>\n",
              "      <td>2</td>\n",
              "      <td>7</td>\n",
              "      <td>...</td>\n",
              "      <td>0</td>\n",
              "      <td>0</td>\n",
              "      <td>1</td>\n",
              "      <td>0</td>\n",
              "      <td>0</td>\n",
              "      <td>0</td>\n",
              "      <td>0</td>\n",
              "      <td>0</td>\n",
              "      <td>0</td>\n",
              "      <td>0</td>\n",
              "    </tr>\n",
              "    <tr>\n",
              "      <th>4</th>\n",
              "      <td>1989</td>\n",
              "      <td>21474.0</td>\n",
              "      <td>1</td>\n",
              "      <td>0</td>\n",
              "      <td>0</td>\n",
              "      <td>2</td>\n",
              "      <td>3</td>\n",
              "      <td>1</td>\n",
              "      <td>2</td>\n",
              "      <td>7</td>\n",
              "      <td>...</td>\n",
              "      <td>0</td>\n",
              "      <td>0</td>\n",
              "      <td>0</td>\n",
              "      <td>0</td>\n",
              "      <td>0</td>\n",
              "      <td>0</td>\n",
              "      <td>0</td>\n",
              "      <td>0</td>\n",
              "      <td>1</td>\n",
              "      <td>0</td>\n",
              "    </tr>\n",
              "    <tr>\n",
              "      <th>...</th>\n",
              "      <td>...</td>\n",
              "      <td>...</td>\n",
              "      <td>...</td>\n",
              "      <td>...</td>\n",
              "      <td>...</td>\n",
              "      <td>...</td>\n",
              "      <td>...</td>\n",
              "      <td>...</td>\n",
              "      <td>...</td>\n",
              "      <td>...</td>\n",
              "      <td>...</td>\n",
              "      <td>...</td>\n",
              "      <td>...</td>\n",
              "      <td>...</td>\n",
              "      <td>...</td>\n",
              "      <td>...</td>\n",
              "      <td>...</td>\n",
              "      <td>...</td>\n",
              "      <td>...</td>\n",
              "      <td>...</td>\n",
              "      <td>...</td>\n",
              "    </tr>\n",
              "    <tr>\n",
              "      <th>2235</th>\n",
              "      <td>1976</td>\n",
              "      <td>66476.0</td>\n",
              "      <td>0</td>\n",
              "      <td>1</td>\n",
              "      <td>99</td>\n",
              "      <td>2</td>\n",
              "      <td>5</td>\n",
              "      <td>2</td>\n",
              "      <td>11</td>\n",
              "      <td>4</td>\n",
              "      <td>...</td>\n",
              "      <td>0</td>\n",
              "      <td>0</td>\n",
              "      <td>0</td>\n",
              "      <td>0</td>\n",
              "      <td>0</td>\n",
              "      <td>0</td>\n",
              "      <td>0</td>\n",
              "      <td>0</td>\n",
              "      <td>0</td>\n",
              "      <td>1</td>\n",
              "    </tr>\n",
              "    <tr>\n",
              "      <th>2236</th>\n",
              "      <td>1977</td>\n",
              "      <td>31056.0</td>\n",
              "      <td>1</td>\n",
              "      <td>0</td>\n",
              "      <td>99</td>\n",
              "      <td>1</td>\n",
              "      <td>1</td>\n",
              "      <td>0</td>\n",
              "      <td>3</td>\n",
              "      <td>8</td>\n",
              "      <td>...</td>\n",
              "      <td>0</td>\n",
              "      <td>0</td>\n",
              "      <td>0</td>\n",
              "      <td>0</td>\n",
              "      <td>0</td>\n",
              "      <td>0</td>\n",
              "      <td>0</td>\n",
              "      <td>0</td>\n",
              "      <td>1</td>\n",
              "      <td>0</td>\n",
              "    </tr>\n",
              "    <tr>\n",
              "      <th>2237</th>\n",
              "      <td>1976</td>\n",
              "      <td>46310.0</td>\n",
              "      <td>1</td>\n",
              "      <td>0</td>\n",
              "      <td>99</td>\n",
              "      <td>2</td>\n",
              "      <td>6</td>\n",
              "      <td>1</td>\n",
              "      <td>5</td>\n",
              "      <td>8</td>\n",
              "      <td>...</td>\n",
              "      <td>0</td>\n",
              "      <td>0</td>\n",
              "      <td>0</td>\n",
              "      <td>0</td>\n",
              "      <td>0</td>\n",
              "      <td>0</td>\n",
              "      <td>0</td>\n",
              "      <td>0</td>\n",
              "      <td>1</td>\n",
              "      <td>0</td>\n",
              "    </tr>\n",
              "    <tr>\n",
              "      <th>2238</th>\n",
              "      <td>1978</td>\n",
              "      <td>65819.0</td>\n",
              "      <td>0</td>\n",
              "      <td>0</td>\n",
              "      <td>99</td>\n",
              "      <td>1</td>\n",
              "      <td>5</td>\n",
              "      <td>4</td>\n",
              "      <td>10</td>\n",
              "      <td>3</td>\n",
              "      <td>...</td>\n",
              "      <td>0</td>\n",
              "      <td>0</td>\n",
              "      <td>0</td>\n",
              "      <td>0</td>\n",
              "      <td>0</td>\n",
              "      <td>1</td>\n",
              "      <td>0</td>\n",
              "      <td>0</td>\n",
              "      <td>0</td>\n",
              "      <td>0</td>\n",
              "    </tr>\n",
              "    <tr>\n",
              "      <th>2239</th>\n",
              "      <td>1969</td>\n",
              "      <td>94871.0</td>\n",
              "      <td>0</td>\n",
              "      <td>2</td>\n",
              "      <td>99</td>\n",
              "      <td>1</td>\n",
              "      <td>8</td>\n",
              "      <td>5</td>\n",
              "      <td>4</td>\n",
              "      <td>7</td>\n",
              "      <td>...</td>\n",
              "      <td>0</td>\n",
              "      <td>0</td>\n",
              "      <td>0</td>\n",
              "      <td>1</td>\n",
              "      <td>0</td>\n",
              "      <td>0</td>\n",
              "      <td>0</td>\n",
              "      <td>0</td>\n",
              "      <td>0</td>\n",
              "      <td>0</td>\n",
              "    </tr>\n",
              "  </tbody>\n",
              "</table>\n",
              "<p>2171 rows × 56 columns</p>\n",
              "</div>\n",
              "      <button class=\"colab-df-convert\" onclick=\"convertToInteractive('df-5d5038a3-e75d-41e5-9a55-b0ab0ed2bb6c')\"\n",
              "              title=\"Convert this dataframe to an interactive table.\"\n",
              "              style=\"display:none;\">\n",
              "        \n",
              "  <svg xmlns=\"http://www.w3.org/2000/svg\" height=\"24px\"viewBox=\"0 0 24 24\"\n",
              "       width=\"24px\">\n",
              "    <path d=\"M0 0h24v24H0V0z\" fill=\"none\"/>\n",
              "    <path d=\"M18.56 5.44l.94 2.06.94-2.06 2.06-.94-2.06-.94-.94-2.06-.94 2.06-2.06.94zm-11 1L8.5 8.5l.94-2.06 2.06-.94-2.06-.94L8.5 2.5l-.94 2.06-2.06.94zm10 10l.94 2.06.94-2.06 2.06-.94-2.06-.94-.94-2.06-.94 2.06-2.06.94z\"/><path d=\"M17.41 7.96l-1.37-1.37c-.4-.4-.92-.59-1.43-.59-.52 0-1.04.2-1.43.59L10.3 9.45l-7.72 7.72c-.78.78-.78 2.05 0 2.83L4 21.41c.39.39.9.59 1.41.59.51 0 1.02-.2 1.41-.59l7.78-7.78 2.81-2.81c.8-.78.8-2.07 0-2.86zM5.41 20L4 18.59l7.72-7.72 1.47 1.35L5.41 20z\"/>\n",
              "  </svg>\n",
              "      </button>\n",
              "      \n",
              "  <style>\n",
              "    .colab-df-container {\n",
              "      display:flex;\n",
              "      flex-wrap:wrap;\n",
              "      gap: 12px;\n",
              "    }\n",
              "\n",
              "    .colab-df-convert {\n",
              "      background-color: #E8F0FE;\n",
              "      border: none;\n",
              "      border-radius: 50%;\n",
              "      cursor: pointer;\n",
              "      display: none;\n",
              "      fill: #1967D2;\n",
              "      height: 32px;\n",
              "      padding: 0 0 0 0;\n",
              "      width: 32px;\n",
              "    }\n",
              "\n",
              "    .colab-df-convert:hover {\n",
              "      background-color: #E2EBFA;\n",
              "      box-shadow: 0px 1px 2px rgba(60, 64, 67, 0.3), 0px 1px 3px 1px rgba(60, 64, 67, 0.15);\n",
              "      fill: #174EA6;\n",
              "    }\n",
              "\n",
              "    [theme=dark] .colab-df-convert {\n",
              "      background-color: #3B4455;\n",
              "      fill: #D2E3FC;\n",
              "    }\n",
              "\n",
              "    [theme=dark] .colab-df-convert:hover {\n",
              "      background-color: #434B5C;\n",
              "      box-shadow: 0px 1px 3px 1px rgba(0, 0, 0, 0.15);\n",
              "      filter: drop-shadow(0px 1px 2px rgba(0, 0, 0, 0.3));\n",
              "      fill: #FFFFFF;\n",
              "    }\n",
              "  </style>\n",
              "\n",
              "      <script>\n",
              "        const buttonEl =\n",
              "          document.querySelector('#df-5d5038a3-e75d-41e5-9a55-b0ab0ed2bb6c button.colab-df-convert');\n",
              "        buttonEl.style.display =\n",
              "          google.colab.kernel.accessAllowed ? 'block' : 'none';\n",
              "\n",
              "        async function convertToInteractive(key) {\n",
              "          const element = document.querySelector('#df-5d5038a3-e75d-41e5-9a55-b0ab0ed2bb6c');\n",
              "          const dataTable =\n",
              "            await google.colab.kernel.invokeFunction('convertToInteractive',\n",
              "                                                     [key], {});\n",
              "          if (!dataTable) return;\n",
              "\n",
              "          const docLinkHtml = 'Like what you see? Visit the ' +\n",
              "            '<a target=\"_blank\" href=https://colab.research.google.com/notebooks/data_table.ipynb>data table notebook</a>'\n",
              "            + ' to learn more about interactive tables.';\n",
              "          element.innerHTML = '';\n",
              "          dataTable['output_type'] = 'display_data';\n",
              "          await google.colab.output.renderOutput(dataTable, element);\n",
              "          const docLink = document.createElement('div');\n",
              "          docLink.innerHTML = docLinkHtml;\n",
              "          element.appendChild(docLink);\n",
              "        }\n",
              "      </script>\n",
              "    </div>\n",
              "  </div>\n",
              "  "
            ]
          },
          "metadata": {},
          "execution_count": 27
        }
      ]
    },
    {
      "cell_type": "code",
      "metadata": {
        "colab": {
          "base_uri": "https://localhost:8080/"
        },
        "id": "8VnKUvvN8xlX",
        "outputId": "2bcda545-a82a-4879-d69f-bc00b9ad0793"
      },
      "source": [
        "no_Mnt = features[features['Mnt'].isna()]\n",
        "Mnt = features[features['Mnt'].notnull()]\n",
        "\n",
        "print(no_Mnt.shape)\n",
        "print(Mnt.shape)"
      ],
      "execution_count": null,
      "outputs": [
        {
          "output_type": "stream",
          "name": "stdout",
          "text": [
            "(0, 56)\n",
            "(2171, 56)\n"
          ]
        }
      ]
    },
    {
      "cell_type": "code",
      "metadata": {
        "id": "hHnUWsIL9IfG"
      },
      "source": [
        "#Разобьем данные на тестовую и проверочную выборку\n",
        "from sklearn.model_selection import train_test_split\n",
        "features = Mnt.drop(columns='Mnt')\n",
        "targets = pd.DataFrame(Mnt['Mnt'])\n",
        "\n",
        "features = features.replace({np.inf: np.nan, -np.inf: np.nan})\n",
        "\n",
        "train_features, test_features, train_labels, test_labels = train_test_split(features, targets, test_size = 0.3, random_state = 42)\n",
        "\n",
        "\n"
      ],
      "execution_count": null,
      "outputs": []
    },
    {
      "cell_type": "markdown",
      "metadata": {
        "id": "5UboJEv4YAE0"
      },
      "source": [
        "4)Выбор метрики \n",
        "\n",
        "В качестве метрики я выбрал MAE (Средняя абсолютная ошибка) так как она легко вычесляема и хорошо интерпретируема для данной модели"
      ]
    },
    {
      "cell_type": "code",
      "metadata": {
        "id": "PXW0NP0L9TyU"
      },
      "source": [
        "def mae(y_true, y_pred):\n",
        "    return np.mean(abs(y_true - y_pred))"
      ],
      "execution_count": null,
      "outputs": []
    },
    {
      "cell_type": "code",
      "metadata": {
        "colab": {
          "base_uri": "https://localhost:8080/"
        },
        "id": "WrYclyva9yGV",
        "outputId": "4edd0cad-a53c-4798-9671-522b47795cc1"
      },
      "source": [
        "#Вычесляем показатель для исходного базового уровня\n",
        "baseline_guess = np.median(train_labels)\n",
        "print('The baseline guess is a score of %0.2f' % baseline_guess)\n",
        "print(\"Baseline Performance on the test set: MAE = %0.4f\" % mae(test_labels, baseline_guess))"
      ],
      "execution_count": null,
      "outputs": [
        {
          "output_type": "stream",
          "name": "stdout",
          "text": [
            "The baseline guess is a score of 395.00\n",
            "Baseline Performance on the test set: MAE = 494.8451\n"
          ]
        }
      ]
    },
    {
      "cell_type": "markdown",
      "metadata": {
        "id": "0X5-aczwaWCj"
      },
      "source": [
        "Из-за перекоса данных базовый уровень имеет существенную ошибку в 514 покупок "
      ]
    },
    {
      "cell_type": "code",
      "metadata": {
        "id": "ghAH9IkeAdVq"
      },
      "source": [
        "#Заполняем отстутсвующие значения \n",
        "imputer = SimpleImputer(missing_values=np.nan, strategy='mean')\n",
        "\n",
        "\n",
        "imputer.fit(train_features)\n",
        "\n",
        "\n",
        "X = imputer.transform(train_features)\n",
        "X_test = imputer.transform(test_features)"
      ],
      "execution_count": null,
      "outputs": []
    },
    {
      "cell_type": "code",
      "metadata": {
        "colab": {
          "base_uri": "https://localhost:8080/"
        },
        "id": "AUntwodyqvi7",
        "outputId": "8910ab80-76c5-4124-f502-52e53b511520"
      },
      "source": [
        "print('Missing values in training features: ', np.sum(np.isnan(X)))\n",
        "print('Missing values in testing features:  ', np.sum(np.isnan(X_test)))"
      ],
      "execution_count": null,
      "outputs": [
        {
          "output_type": "stream",
          "name": "stdout",
          "text": [
            "Missing values in training features:  0\n",
            "Missing values in testing features:   0\n"
          ]
        }
      ]
    },
    {
      "cell_type": "code",
      "metadata": {
        "colab": {
          "base_uri": "https://localhost:8080/"
        },
        "id": "3MJOKoviqyMN",
        "outputId": "893b184d-22ad-4e13-bbe0-f6f938e8e939"
      },
      "source": [
        "print(np.where(~np.isfinite(X)))\n",
        "print(np.where(~np.isfinite(X_test)))"
      ],
      "execution_count": null,
      "outputs": [
        {
          "output_type": "stream",
          "name": "stdout",
          "text": [
            "(array([], dtype=int64), array([], dtype=int64))\n",
            "(array([], dtype=int64), array([], dtype=int64))\n"
          ]
        }
      ]
    },
    {
      "cell_type": "markdown",
      "metadata": {
        "id": "hmSyfxeSbOAh"
      },
      "source": [
        "5) Масштабирование признаков"
      ]
    },
    {
      "cell_type": "code",
      "metadata": {
        "id": "mryRs63grFbt"
      },
      "source": [
        "#Масштабируем данные от 0-1\n",
        "scaler = MinMaxScaler(feature_range=(0, 1))\n",
        "\n",
        "\n",
        "scaler.fit(X)\n",
        "\n",
        "\n",
        "X = scaler.transform(X)\n",
        "X_test = scaler.transform(X_test)"
      ],
      "execution_count": null,
      "outputs": []
    },
    {
      "cell_type": "code",
      "metadata": {
        "id": "rRuJVBgsrNT6"
      },
      "source": [
        "#Преобразуем в вектор\n",
        "y = np.array(train_labels).reshape((-1, ))\n",
        "y_test = np.array(test_labels).reshape((-1, ))"
      ],
      "execution_count": null,
      "outputs": []
    },
    {
      "cell_type": "markdown",
      "metadata": {
        "id": "hPuuZmPRcaGb"
      },
      "source": [
        "6)Выбор модели обучения\n",
        "Для обучения модели мы рассмотрим 5 моделей:\n",
        "\n",
        "1)Линейная регрессия.\n",
        "\n",
        "2)Метод k-ближайших соседей.\n",
        "\n",
        "3)«Случайный лес».\n",
        "\n",
        "4)Градиентный бустинг.\n",
        "\n",
        "5)Метод опорных векторов.\n"
      ]
    },
    {
      "cell_type": "code",
      "metadata": {
        "id": "iwg9zXGCrUfZ"
      },
      "source": [
        "def fit_and_evaluate(model):\n",
        "    \n",
        "    \n",
        "    model.fit(X, y)\n",
        "    \n",
        "    \n",
        "    model_pred = model.predict(X_test)\n",
        "    model_mae = mae(y_test, model_pred)\n",
        "    \n",
        "  \n",
        "    return model_mae"
      ],
      "execution_count": null,
      "outputs": []
    },
    {
      "cell_type": "code",
      "metadata": {
        "colab": {
          "base_uri": "https://localhost:8080/"
        },
        "id": "XS4QOKNYrXHN",
        "outputId": "f5d9dd6c-3e63-4b9a-8ea2-367032125e91"
      },
      "source": [
        "lr = LinearRegression()\n",
        "lr_mae = fit_and_evaluate(lr)\n",
        "\n",
        "print('Linear Regression Performance on the test set: MAE = %0.4f' % lr_mae)"
      ],
      "execution_count": null,
      "outputs": [
        {
          "output_type": "stream",
          "name": "stdout",
          "text": [
            "Linear Regression Performance on the test set: MAE = 166.1273\n"
          ]
        }
      ]
    },
    {
      "cell_type": "code",
      "metadata": {
        "colab": {
          "base_uri": "https://localhost:8080/"
        },
        "id": "53eYGKVBrZjC",
        "outputId": "30ee78c5-7952-4967-aae0-786b08b738f7"
      },
      "source": [
        "random_forest = RandomForestRegressor(random_state=17)\n",
        "random_forest_mae = fit_and_evaluate(random_forest)\n",
        "\n",
        "print('Random Forest Regression Performance on the test set: MAE = %0.4f' % random_forest_mae)"
      ],
      "execution_count": null,
      "outputs": [
        {
          "output_type": "stream",
          "name": "stdout",
          "text": [
            "Random Forest Regression Performance on the test set: MAE = 100.6178\n"
          ]
        }
      ]
    },
    {
      "cell_type": "code",
      "metadata": {
        "colab": {
          "base_uri": "https://localhost:8080/"
        },
        "id": "Qe0yk0DKrcVm",
        "outputId": "8da95800-03f5-4d5d-c2f9-0ff3c1eedcaf"
      },
      "source": [
        "gradient_boosted = GradientBoostingRegressor(random_state=60)\n",
        "gradient_boosted_mae = fit_and_evaluate(gradient_boosted)\n",
        "\n",
        "print('Gradient Boosted Regression Performance on the test set: MAE = %0.4f' % gradient_boosted_mae)"
      ],
      "execution_count": null,
      "outputs": [
        {
          "output_type": "stream",
          "name": "stdout",
          "text": [
            "Gradient Boosted Regression Performance on the test set: MAE = 110.2321\n"
          ]
        }
      ]
    },
    {
      "cell_type": "code",
      "metadata": {
        "colab": {
          "base_uri": "https://localhost:8080/"
        },
        "id": "D7Woky5NrfQX",
        "outputId": "e94da001-f71b-49bf-db19-a950b876aa0d"
      },
      "source": [
        "knn = KNeighborsRegressor(n_neighbors=10)\n",
        "knn_mae = fit_and_evaluate(knn)\n",
        "\n",
        "print('K-Nearest Neighbors Regression Performance on the test set: MAE = %0.4f' % knn_mae)"
      ],
      "execution_count": null,
      "outputs": [
        {
          "output_type": "stream",
          "name": "stdout",
          "text": [
            "K-Nearest Neighbors Regression Performance on the test set: MAE = 260.5916\n"
          ]
        }
      ]
    },
    {
      "cell_type": "code",
      "metadata": {
        "colab": {
          "base_uri": "https://localhost:8080/"
        },
        "id": "3FaENYjZrutT",
        "outputId": "de4fe17a-c950-47bc-a694-1ce3699ac174"
      },
      "source": [
        "svm = SVR(C = 1000, gamma = 0.1)\n",
        "svm_mae = fit_and_evaluate(svm)\n",
        "\n",
        "print('Support Vector Machine Regression Performance on the test set: MAE = %0.4f' % svm_mae)"
      ],
      "execution_count": null,
      "outputs": [
        {
          "output_type": "stream",
          "name": "stdout",
          "text": [
            "Support Vector Machine Regression Performance on the test set: MAE = 147.4888\n"
          ]
        }
      ]
    },
    {
      "cell_type": "code",
      "metadata": {
        "colab": {
          "base_uri": "https://localhost:8080/",
          "height": 441
        },
        "id": "aPyPKAQWrip0",
        "outputId": "65fd5782-9194-43a4-b126-8f2f10f21d10"
      },
      "source": [
        "plt.style.use('fivethirtyeight')\n",
        "figsize(8, 6)\n",
        "\n",
        "\n",
        "model_comparison = pd.DataFrame({'model': ['Linear Regression', 'Support Vector Machine',\n",
        "                                           'Random Forest', 'Gradient Boosted',\n",
        "                                            'K-Nearest Neighbors'],\n",
        "                                 'mae': [lr_mae, svm_mae, random_forest_mae, \n",
        "                                         gradient_boosted_mae, knn_mae]})\n",
        "\n",
        "model_comparison.sort_values('mae', ascending = False).plot(x = 'model', y = 'mae', kind = 'barh',\n",
        "                                                           color = 'red', edgecolor = 'black')\n",
        "\n",
        "\n",
        "plt.ylabel(''); plt.yticks(size = 14); plt.xlabel('Mean Absolute Error'); plt.xticks(size = 14)\n",
        "plt.title('Model Comparison on Test MAE', size = 20);"
      ],
      "execution_count": null,
      "outputs": [
        {
          "output_type": "display_data",
          "data": {
            "text/plain": [
              "<Figure size 576x432 with 1 Axes>"
            ],
            "image/png": "[encoded data removed]"
          },
          "metadata": {}
        }
      ]
    },
    {
      "cell_type": "markdown",
      "metadata": {
        "id": "BKA9DMVNc_h9"
      },
      "source": [
        "Судя по графику наибольшую эффективность показал «Случайный лес».\n",
        "\n",
        "Его и будем использовать"
      ]
    },
    {
      "cell_type": "markdown",
      "metadata": {
        "id": "BM9KT6sldh5A"
      },
      "source": [
        "7)Настройка гиперпараметров"
      ]
    },
    {
      "cell_type": "code",
      "metadata": {
        "id": "P-QhIL4Tumoc"
      },
      "source": [
        "\n",
        "\n",
        "\n",
        "n_estimators = [100, 500, 900, 1100, 1500]\n",
        "\n",
        "\n",
        "max_depth = [2, 3, 5, 10, 15]\n",
        "\n",
        "\n",
        "min_samples_leaf = [1, 2, 4, 6, 8]\n",
        "\n",
        "\n",
        "min_samples_split = [2, 4, 6, 10]\n",
        "\n",
        "\n",
        "max_features = ['auto', 'sqrt', 'log2', None]\n",
        "\n",
        "bootstrap = [True, False]\n",
        "\n",
        "hyperparameter_grid = {\n",
        "                       'n_estimators': n_estimators,\n",
        "                       'max_depth': max_depth,\n",
        "                       'min_samples_leaf': min_samples_leaf,\n",
        "                       'min_samples_split': min_samples_split,\n",
        "                       'max_features': max_features}"
      ],
      "execution_count": null,
      "outputs": []
    },
    {
      "cell_type": "code",
      "metadata": {
        "id": "jfHe6dTVwT6x"
      },
      "source": [
        "model = RandomForestRegressor(random_state = 42)\n",
        "\n",
        "\n",
        "random_cv = RandomizedSearchCV(estimator=model,\n",
        "                               param_distributions=hyperparameter_grid,\n",
        "                               cv=4, n_iter=25, \n",
        "                               scoring = 'neg_mean_absolute_error',\n",
        "                               n_jobs = -1, verbose = 1, \n",
        "                               return_train_score = True,\n",
        "                               random_state=42)"
      ],
      "execution_count": null,
      "outputs": []
    },
    {
      "cell_type": "code",
      "metadata": {
        "id": "amQbI4qSwWK5",
        "colab": {
          "base_uri": "https://localhost:8080/"
        },
        "outputId": "ace491fd-3f97-465d-eb83-6fe5771206b4"
      },
      "source": [
        "random_cv.fit(X, y)\n",
        "random_cv.best_params_"
      ],
      "execution_count": null,
      "outputs": [
        {
          "output_type": "stream",
          "name": "stdout",
          "text": [
            "Fitting 4 folds for each of 25 candidates, totalling 100 fits\n"
          ]
        },
        {
          "output_type": "execute_result",
          "data": {
            "text/plain": [
              "{'n_estimators': 900,\n",
              " 'min_samples_split': 2,\n",
              " 'min_samples_leaf': 2,\n",
              " 'max_features': None,\n",
              " 'max_depth': 15}"
            ]
          },
          "metadata": {},
          "execution_count": 46
        }
      ]
    },
    {
      "cell_type": "code",
      "metadata": {
        "colab": {
          "base_uri": "https://localhost:8080/",
          "height": 977
        },
        "id": "FK36eO_pBQix",
        "outputId": "2e3e4e31-ba79-4a6d-d937-1253e78d9add"
      },
      "source": [
        "random_results = pd.DataFrame(random_cv.cv_results_).sort_values('mean_test_score', ascending = False)\n",
        "random_results.head(10)"
      ],
      "execution_count": null,
      "outputs": [
        {
          "output_type": "execute_result",
          "data": {
            "text/plain": [
              "    mean_fit_time  std_fit_time  mean_score_time  std_score_time  \\\n",
              "24       8.862597      0.038340         0.166010        0.011857   \n",
              "18       4.127237      0.014429         0.086347        0.011022   \n",
              "21      10.951394      0.047723         0.239192        0.011348   \n",
              "5       11.648925      2.675276         0.296105        0.082580   \n",
              "11       6.067092      0.015015         0.142979        0.010780   \n",
              "4       10.128370      0.024023         0.236658        0.005296   \n",
              "22       3.420209      0.034388         0.078805        0.007116   \n",
              "7        1.449349      0.013176         0.087488        0.002015   \n",
              "9        3.008313      0.007655         0.193285        0.004487   \n",
              "2        2.977970      0.039594         0.190492        0.004532   \n",
              "\n",
              "   param_n_estimators param_min_samples_split param_min_samples_leaf  \\\n",
              "24                900                       2                      2   \n",
              "18                500                       4                      4   \n",
              "21               1500                       2                      6   \n",
              "5                1100                       6                      6   \n",
              "11                900                       6                      8   \n",
              "4                1500                       4                      8   \n",
              "22                500                       2                      8   \n",
              "7                 500                       6                      2   \n",
              "9                1100                       2                      2   \n",
              "2                1100                       6                      2   \n",
              "\n",
              "   param_max_features param_max_depth  \\\n",
              "24               None              15   \n",
              "18               auto              15   \n",
              "21               auto              15   \n",
              "5                auto              10   \n",
              "11               auto              10   \n",
              "4                auto              10   \n",
              "22               None              15   \n",
              "7                sqrt              15   \n",
              "9                sqrt              10   \n",
              "2                sqrt              10   \n",
              "\n",
              "                                               params  ...  split3_test_score  \\\n",
              "24  {'n_estimators': 900, 'min_samples_split': 2, ...  ...         -84.250897   \n",
              "18  {'n_estimators': 500, 'min_samples_split': 4, ...  ...         -86.996485   \n",
              "21  {'n_estimators': 1500, 'min_samples_split': 2,...  ...         -88.972103   \n",
              "5   {'n_estimators': 1100, 'min_samples_split': 6,...  ...         -89.098011   \n",
              "11  {'n_estimators': 900, 'min_samples_split': 6, ...  ...         -91.548892   \n",
              "4   {'n_estimators': 1500, 'min_samples_split': 4,...  ...         -91.447181   \n",
              "22  {'n_estimators': 500, 'min_samples_split': 2, ...  ...         -91.686008   \n",
              "7   {'n_estimators': 500, 'min_samples_split': 6, ...  ...         -99.343568   \n",
              "9   {'n_estimators': 1100, 'min_samples_split': 2,...  ...        -100.324312   \n",
              "2   {'n_estimators': 1100, 'min_samples_split': 6,...  ...        -100.782772   \n",
              "\n",
              "    mean_test_score  std_test_score  rank_test_score  split0_train_score  \\\n",
              "24      -104.740477       12.344141                1          -46.675771   \n",
              "18      -108.546758       13.234190                2          -66.274777   \n",
              "21      -111.935318       14.397012                3          -79.213872   \n",
              "5       -112.053639       14.435667                4          -79.465814   \n",
              "11      -114.452916       14.626313                5          -87.496669   \n",
              "4       -114.512685       14.643270                6          -87.532167   \n",
              "22      -114.546802       14.618363                7          -87.437619   \n",
              "7       -116.976977       10.426211                8          -70.012555   \n",
              "9       -117.944973       10.533641                9          -71.951908   \n",
              "2       -118.268174       10.353258               10          -76.083348   \n",
              "\n",
              "    split1_train_score  split2_train_score  split3_train_score  \\\n",
              "24          -46.020962          -46.014458          -49.085826   \n",
              "18          -65.114077          -65.234238          -70.026051   \n",
              "21          -78.357520          -78.403342          -83.976351   \n",
              "5           -78.702927          -78.805133          -84.443460   \n",
              "11          -87.266165          -87.247978          -93.243132   \n",
              "4           -87.137202          -87.197020          -93.219015   \n",
              "22          -86.937177          -87.115814          -93.330735   \n",
              "7           -68.406450          -70.198422          -74.192160   \n",
              "9           -71.148251          -73.165364          -77.904083   \n",
              "2           -75.508921          -77.617917          -82.348427   \n",
              "\n",
              "    mean_train_score  std_train_score  \n",
              "24        -46.949254         1.262468  \n",
              "18        -66.662286         1.993825  \n",
              "21        -79.987771         2.327865  \n",
              "5         -80.354333         2.378949  \n",
              "11        -88.813486         2.559335  \n",
              "4         -88.771351         2.572268  \n",
              "22        -88.705336         2.676490  \n",
              "7         -70.702397         2.131883  \n",
              "9         -73.542402         2.618590  \n",
              "2         -77.889653         2.687244  \n",
              "\n",
              "[10 rows x 23 columns]"
            ],
            "text/html": [
              "\n",
              "  <div id=\"df-58cf4707-8773-452f-8fee-28020d405d20\">\n",
              "    <div class=\"colab-df-container\">\n",
              "      <div>\n",
              "<style scoped>\n",
              "    .dataframe tbody tr th:only-of-type {\n",
              "        vertical-align: middle;\n",
              "    }\n",
              "\n",
              "    .dataframe tbody tr th {\n",
              "        vertical-align: top;\n",
              "    }\n",
              "\n",
              "    .dataframe thead th {\n",
              "        text-align: right;\n",
              "    }\n",
              "</style>\n",
              "<table border=\"1\" class=\"dataframe\">\n",
              "  <thead>\n",
              "    <tr style=\"text-align: right;\">\n",
              "      <th></th>\n",
              "      <th>mean_fit_time</th>\n",
              "      <th>std_fit_time</th>\n",
              "      <th>mean_score_time</th>\n",
              "      <th>std_score_time</th>\n",
              "      <th>param_n_estimators</th>\n",
              "      <th>param_min_samples_split</th>\n",
              "      <th>param_min_samples_leaf</th>\n",
              "      <th>param_max_features</th>\n",
              "      <th>param_max_depth</th>\n",
              "      <th>params</th>\n",
              "      <th>...</th>\n",
              "      <th>split3_test_score</th>\n",
              "      <th>mean_test_score</th>\n",
              "      <th>std_test_score</th>\n",
              "      <th>rank_test_score</th>\n",
              "      <th>split0_train_score</th>\n",
              "      <th>split1_train_score</th>\n",
              "      <th>split2_train_score</th>\n",
              "      <th>split3_train_score</th>\n",
              "      <th>mean_train_score</th>\n",
              "      <th>std_train_score</th>\n",
              "    </tr>\n",
              "  </thead>\n",
              "  <tbody>\n",
              "    <tr>\n",
              "      <th>24</th>\n",
              "      <td>8.862597</td>\n",
              "      <td>0.038340</td>\n",
              "      <td>0.166010</td>\n",
              "      <td>0.011857</td>\n",
              "      <td>900</td>\n",
              "      <td>2</td>\n",
              "      <td>2</td>\n",
              "      <td>None</td>\n",
              "      <td>15</td>\n",
              "      <td>{'n_estimators': 900, 'min_samples_split': 2, ...</td>\n",
              "      <td>...</td>\n",
              "      <td>-84.250897</td>\n",
              "      <td>-104.740477</td>\n",
              "      <td>12.344141</td>\n",
              "      <td>1</td>\n",
              "      <td>-46.675771</td>\n",
              "      <td>-46.020962</td>\n",
              "      <td>-46.014458</td>\n",
              "      <td>-49.085826</td>\n",
              "      <td>-46.949254</td>\n",
              "      <td>1.262468</td>\n",
              "    </tr>\n",
              "    <tr>\n",
              "      <th>18</th>\n",
              "      <td>4.127237</td>\n",
              "      <td>0.014429</td>\n",
              "      <td>0.086347</td>\n",
              "      <td>0.011022</td>\n",
              "      <td>500</td>\n",
              "      <td>4</td>\n",
              "      <td>4</td>\n",
              "      <td>auto</td>\n",
              "      <td>15</td>\n",
              "      <td>{'n_estimators': 500, 'min_samples_split': 4, ...</td>\n",
              "      <td>...</td>\n",
              "      <td>-86.996485</td>\n",
              "      <td>-108.546758</td>\n",
              "      <td>13.234190</td>\n",
              "      <td>2</td>\n",
              "      <td>-66.274777</td>\n",
              "      <td>-65.114077</td>\n",
              "      <td>-65.234238</td>\n",
              "      <td>-70.026051</td>\n",
              "      <td>-66.662286</td>\n",
              "      <td>1.993825</td>\n",
              "    </tr>\n",
              "    <tr>\n",
              "      <th>21</th>\n",
              "      <td>10.951394</td>\n",
              "      <td>0.047723</td>\n",
              "      <td>0.239192</td>\n",
              "      <td>0.011348</td>\n",
              "      <td>1500</td>\n",
              "      <td>2</td>\n",
              "      <td>6</td>\n",
              "      <td>auto</td>\n",
              "      <td>15</td>\n",
              "      <td>{'n_estimators': 1500, 'min_samples_split': 2,...</td>\n",
              "      <td>...</td>\n",
              "      <td>-88.972103</td>\n",
              "      <td>-111.935318</td>\n",
              "      <td>14.397012</td>\n",
              "      <td>3</td>\n",
              "      <td>-79.213872</td>\n",
              "      <td>-78.357520</td>\n",
              "      <td>-78.403342</td>\n",
              "      <td>-83.976351</td>\n",
              "      <td>-79.987771</td>\n",
              "      <td>2.327865</td>\n",
              "    </tr>\n",
              "    <tr>\n",
              "      <th>5</th>\n",
              "      <td>11.648925</td>\n",
              "      <td>2.675276</td>\n",
              "      <td>0.296105</td>\n",
              "      <td>0.082580</td>\n",
              "      <td>1100</td>\n",
              "      <td>6</td>\n",
              "      <td>6</td>\n",
              "      <td>auto</td>\n",
              "      <td>10</td>\n",
              "      <td>{'n_estimators': 1100, 'min_samples_split': 6,...</td>\n",
              "      <td>...</td>\n",
              "      <td>-89.098011</td>\n",
              "      <td>-112.053639</td>\n",
              "      <td>14.435667</td>\n",
              "      <td>4</td>\n",
              "      <td>-79.465814</td>\n",
              "      <td>-78.702927</td>\n",
              "      <td>-78.805133</td>\n",
              "      <td>-84.443460</td>\n",
              "      <td>-80.354333</td>\n",
              "      <td>2.378949</td>\n",
              "    </tr>\n",
              "    <tr>\n",
              "      <th>11</th>\n",
              "      <td>6.067092</td>\n",
              "      <td>0.015015</td>\n",
              "      <td>0.142979</td>\n",
              "      <td>0.010780</td>\n",
              "      <td>900</td>\n",
              "      <td>6</td>\n",
              "      <td>8</td>\n",
              "      <td>auto</td>\n",
              "      <td>10</td>\n",
              "      <td>{'n_estimators': 900, 'min_samples_split': 6, ...</td>\n",
              "      <td>...</td>\n",
              "      <td>-91.548892</td>\n",
              "      <td>-114.452916</td>\n",
              "      <td>14.626313</td>\n",
              "      <td>5</td>\n",
              "      <td>-87.496669</td>\n",
              "      <td>-87.266165</td>\n",
              "      <td>-87.247978</td>\n",
              "      <td>-93.243132</td>\n",
              "      <td>-88.813486</td>\n",
              "      <td>2.559335</td>\n",
              "    </tr>\n",
              "    <tr>\n",
              "      <th>4</th>\n",
              "      <td>10.128370</td>\n",
              "      <td>0.024023</td>\n",
              "      <td>0.236658</td>\n",
              "      <td>0.005296</td>\n",
              "      <td>1500</td>\n",
              "      <td>4</td>\n",
              "      <td>8</td>\n",
              "      <td>auto</td>\n",
              "      <td>10</td>\n",
              "      <td>{'n_estimators': 1500, 'min_samples_split': 4,...</td>\n",
              "      <td>...</td>\n",
              "      <td>-91.447181</td>\n",
              "      <td>-114.512685</td>\n",
              "      <td>14.643270</td>\n",
              "      <td>6</td>\n",
              "      <td>-87.532167</td>\n",
              "      <td>-87.137202</td>\n",
              "      <td>-87.197020</td>\n",
              "      <td>-93.219015</td>\n",
              "      <td>-88.771351</td>\n",
              "      <td>2.572268</td>\n",
              "    </tr>\n",
              "    <tr>\n",
              "      <th>22</th>\n",
              "      <td>3.420209</td>\n",
              "      <td>0.034388</td>\n",
              "      <td>0.078805</td>\n",
              "      <td>0.007116</td>\n",
              "      <td>500</td>\n",
              "      <td>2</td>\n",
              "      <td>8</td>\n",
              "      <td>None</td>\n",
              "      <td>15</td>\n",
              "      <td>{'n_estimators': 500, 'min_samples_split': 2, ...</td>\n",
              "      <td>...</td>\n",
              "      <td>-91.686008</td>\n",
              "      <td>-114.546802</td>\n",
              "      <td>14.618363</td>\n",
              "      <td>7</td>\n",
              "      <td>-87.437619</td>\n",
              "      <td>-86.937177</td>\n",
              "      <td>-87.115814</td>\n",
              "      <td>-93.330735</td>\n",
              "      <td>-88.705336</td>\n",
              "      <td>2.676490</td>\n",
              "    </tr>\n",
              "    <tr>\n",
              "      <th>7</th>\n",
              "      <td>1.449349</td>\n",
              "      <td>0.013176</td>\n",
              "      <td>0.087488</td>\n",
              "      <td>0.002015</td>\n",
              "      <td>500</td>\n",
              "      <td>6</td>\n",
              "      <td>2</td>\n",
              "      <td>sqrt</td>\n",
              "      <td>15</td>\n",
              "      <td>{'n_estimators': 500, 'min_samples_split': 6, ...</td>\n",
              "      <td>...</td>\n",
              "      <td>-99.343568</td>\n",
              "      <td>-116.976977</td>\n",
              "      <td>10.426211</td>\n",
              "      <td>8</td>\n",
              "      <td>-70.012555</td>\n",
              "      <td>-68.406450</td>\n",
              "      <td>-70.198422</td>\n",
              "      <td>-74.192160</td>\n",
              "      <td>-70.702397</td>\n",
              "      <td>2.131883</td>\n",
              "    </tr>\n",
              "    <tr>\n",
              "      <th>9</th>\n",
              "      <td>3.008313</td>\n",
              "      <td>0.007655</td>\n",
              "      <td>0.193285</td>\n",
              "      <td>0.004487</td>\n",
              "      <td>1100</td>\n",
              "      <td>2</td>\n",
              "      <td>2</td>\n",
              "      <td>sqrt</td>\n",
              "      <td>10</td>\n",
              "      <td>{'n_estimators': 1100, 'min_samples_split': 2,...</td>\n",
              "      <td>...</td>\n",
              "      <td>-100.324312</td>\n",
              "      <td>-117.944973</td>\n",
              "      <td>10.533641</td>\n",
              "      <td>9</td>\n",
              "      <td>-71.951908</td>\n",
              "      <td>-71.148251</td>\n",
              "      <td>-73.165364</td>\n",
              "      <td>-77.904083</td>\n",
              "      <td>-73.542402</td>\n",
              "      <td>2.618590</td>\n",
              "    </tr>\n",
              "    <tr>\n",
              "      <th>2</th>\n",
              "      <td>2.977970</td>\n",
              "      <td>0.039594</td>\n",
              "      <td>0.190492</td>\n",
              "      <td>0.004532</td>\n",
              "      <td>1100</td>\n",
              "      <td>6</td>\n",
              "      <td>2</td>\n",
              "      <td>sqrt</td>\n",
              "      <td>10</td>\n",
              "      <td>{'n_estimators': 1100, 'min_samples_split': 6,...</td>\n",
              "      <td>...</td>\n",
              "      <td>-100.782772</td>\n",
              "      <td>-118.268174</td>\n",
              "      <td>10.353258</td>\n",
              "      <td>10</td>\n",
              "      <td>-76.083348</td>\n",
              "      <td>-75.508921</td>\n",
              "      <td>-77.617917</td>\n",
              "      <td>-82.348427</td>\n",
              "      <td>-77.889653</td>\n",
              "      <td>2.687244</td>\n",
              "    </tr>\n",
              "  </tbody>\n",
              "</table>\n",
              "<p>10 rows × 23 columns</p>\n",
              "</div>\n",
              "      <button class=\"colab-df-convert\" onclick=\"convertToInteractive('df-58cf4707-8773-452f-8fee-28020d405d20')\"\n",
              "              title=\"Convert this dataframe to an interactive table.\"\n",
              "              style=\"display:none;\">\n",
              "        \n",
              "  <svg xmlns=\"http://www.w3.org/2000/svg\" height=\"24px\"viewBox=\"0 0 24 24\"\n",
              "       width=\"24px\">\n",
              "    <path d=\"M0 0h24v24H0V0z\" fill=\"none\"/>\n",
              "    <path d=\"M18.56 5.44l.94 2.06.94-2.06 2.06-.94-2.06-.94-.94-2.06-.94 2.06-2.06.94zm-11 1L8.5 8.5l.94-2.06 2.06-.94-2.06-.94L8.5 2.5l-.94 2.06-2.06.94zm10 10l.94 2.06.94-2.06 2.06-.94-2.06-.94-.94-2.06-.94 2.06-2.06.94z\"/><path d=\"M17.41 7.96l-1.37-1.37c-.4-.4-.92-.59-1.43-.59-.52 0-1.04.2-1.43.59L10.3 9.45l-7.72 7.72c-.78.78-.78 2.05 0 2.83L4 21.41c.39.39.9.59 1.41.59.51 0 1.02-.2 1.41-.59l7.78-7.78 2.81-2.81c.8-.78.8-2.07 0-2.86zM5.41 20L4 18.59l7.72-7.72 1.47 1.35L5.41 20z\"/>\n",
              "  </svg>\n",
              "      </button>\n",
              "      \n",
              "  <style>\n",
              "    .colab-df-container {\n",
              "      display:flex;\n",
              "      flex-wrap:wrap;\n",
              "      gap: 12px;\n",
              "    }\n",
              "\n",
              "    .colab-df-convert {\n",
              "      background-color: #E8F0FE;\n",
              "      border: none;\n",
              "      border-radius: 50%;\n",
              "      cursor: pointer;\n",
              "      display: none;\n",
              "      fill: #1967D2;\n",
              "      height: 32px;\n",
              "      padding: 0 0 0 0;\n",
              "      width: 32px;\n",
              "    }\n",
              "\n",
              "    .colab-df-convert:hover {\n",
              "      background-color: #E2EBFA;\n",
              "      box-shadow: 0px 1px 2px rgba(60, 64, 67, 0.3), 0px 1px 3px 1px rgba(60, 64, 67, 0.15);\n",
              "      fill: #174EA6;\n",
              "    }\n",
              "\n",
              "    [theme=dark] .colab-df-convert {\n",
              "      background-color: #3B4455;\n",
              "      fill: #D2E3FC;\n",
              "    }\n",
              "\n",
              "    [theme=dark] .colab-df-convert:hover {\n",
              "      background-color: #434B5C;\n",
              "      box-shadow: 0px 1px 3px 1px rgba(0, 0, 0, 0.15);\n",
              "      filter: drop-shadow(0px 1px 2px rgba(0, 0, 0, 0.3));\n",
              "      fill: #FFFFFF;\n",
              "    }\n",
              "  </style>\n",
              "\n",
              "      <script>\n",
              "        const buttonEl =\n",
              "          document.querySelector('#df-58cf4707-8773-452f-8fee-28020d405d20 button.colab-df-convert');\n",
              "        buttonEl.style.display =\n",
              "          google.colab.kernel.accessAllowed ? 'block' : 'none';\n",
              "\n",
              "        async function convertToInteractive(key) {\n",
              "          const element = document.querySelector('#df-58cf4707-8773-452f-8fee-28020d405d20');\n",
              "          const dataTable =\n",
              "            await google.colab.kernel.invokeFunction('convertToInteractive',\n",
              "                                                     [key], {});\n",
              "          if (!dataTable) return;\n",
              "\n",
              "          const docLinkHtml = 'Like what you see? Visit the ' +\n",
              "            '<a target=\"_blank\" href=https://colab.research.google.com/notebooks/data_table.ipynb>data table notebook</a>'\n",
              "            + ' to learn more about interactive tables.';\n",
              "          element.innerHTML = '';\n",
              "          dataTable['output_type'] = 'display_data';\n",
              "          await google.colab.output.renderOutput(dataTable, element);\n",
              "          const docLink = document.createElement('div');\n",
              "          docLink.innerHTML = docLinkHtml;\n",
              "          element.appendChild(docLink);\n",
              "        }\n",
              "      </script>\n",
              "    </div>\n",
              "  </div>\n",
              "  "
            ]
          },
          "metadata": {},
          "execution_count": 47
        }
      ]
    },
    {
      "cell_type": "code",
      "metadata": {
        "colab": {
          "base_uri": "https://localhost:8080/"
        },
        "id": "NCloY6pQBTkf",
        "outputId": "2c643c9d-228f-4272-c0ef-be76c7b6f631"
      },
      "source": [
        "random_cv.best_estimator_"
      ],
      "execution_count": null,
      "outputs": [
        {
          "output_type": "execute_result",
          "data": {
            "text/plain": [
              "RandomForestRegressor(max_depth=15, max_features=None, min_samples_leaf=2,\n",
              "                      n_estimators=900, random_state=42)"
            ]
          },
          "metadata": {},
          "execution_count": 48
        }
      ]
    },
    {
      "cell_type": "code",
      "metadata": {
        "colab": {
          "base_uri": "https://localhost:8080/",
          "height": 1000
        },
        "id": "bHSH3tUNBZQk",
        "outputId": "a7f12428-8843-4a5b-dd9a-e87aaf71f4bf"
      },
      "source": [
        "fig, axs = plt.subplots(ncols=3, nrows=2)\n",
        "sns.set(style=\"whitegrid\", color_codes=True, font_scale = 2)\n",
        "fig.set_size_inches(30,25)\n",
        "sns.barplot(x='param_n_estimators', y='mean_test_score', data=random_results, ax=axs[0,0], color='lightgrey')\n",
        "sns.barplot(x='param_min_samples_split', y='mean_test_score', data=random_results, ax=axs[0,1], color='coral')\n",
        "sns.barplot(x='param_min_samples_leaf', y='mean_test_score', data=random_results, ax=axs[0,2], color='lightgreen')\n",
        "sns.barplot(x='param_max_features', y='mean_test_score', data=random_results, ax=axs[1,0], color='wheat')\n",
        "sns.barplot(x='param_max_depth', y='mean_test_score', data=random_results, ax=axs[1,1], color='lightpink')\n",
        "plt.show()"
      ],
      "execution_count": null,
      "outputs": [
        {
          "output_type": "display_data",
          "data": {
            "text/plain": [
              "<Figure size 2160x1800 with 6 Axes>"
            ],
            "image/png": "[encoded data removed]"
          },
          "metadata": {}
        }
      ]
    },
    {
      "cell_type": "markdown",
      "metadata": {
        "id": "JzAgNGjldtkM"
      },
      "source": [
        "Исходя из графика наибольшую эффективность модель имеет со следующими гиперпараметрами:\n",
        "\n",
        "n_estimators=900\n",
        "\n",
        "max_depth = 10\n",
        "\n",
        "min_samples_leaf =8\n",
        "\n",
        "min_samples_split =2,\n",
        "\n",
        "max_features = 'auto'"
      ]
    },
    {
      "cell_type": "code",
      "metadata": {
        "id": "Iw1iGkUVBpuE"
      },
      "source": [
        "trees_grid = {'n_estimators': [100, 150, 200, 250, 300, 350, 400, 450, 500, 550, 600, 650, 700, 750, 800, 1100]}\n",
        "\n",
        "model = RandomForestRegressor(max_depth = 10,\n",
        "                                  min_samples_leaf =8,\n",
        "                                  min_samples_split =2,\n",
        "                                  max_features = 'auto',\n",
        "                                  random_state = 42)\n",
        "\n",
        "grid_search = GridSearchCV(estimator = model, param_grid=trees_grid, cv = 4, \n",
        "                           scoring = 'neg_mean_absolute_error', verbose = 1,\n",
        "                           n_jobs = -1, return_train_score = True)"
      ],
      "execution_count": null,
      "outputs": []
    },
    {
      "cell_type": "code",
      "metadata": {
        "colab": {
          "base_uri": "https://localhost:8080/"
        },
        "id": "ItdKKOyQBw6H",
        "outputId": "a9b214b6-67d3-42ca-9892-2fb194eda10b"
      },
      "source": [
        "grid_search.fit(X, y)"
      ],
      "execution_count": null,
      "outputs": [
        {
          "output_type": "stream",
          "name": "stdout",
          "text": [
            "Fitting 4 folds for each of 16 candidates, totalling 64 fits\n"
          ]
        },
        {
          "output_type": "execute_result",
          "data": {
            "text/plain": [
              "GridSearchCV(cv=4,\n",
              "             estimator=RandomForestRegressor(max_depth=10, min_samples_leaf=8,\n",
              "                                             random_state=42),\n",
              "             n_jobs=-1,\n",
              "             param_grid={'n_estimators': [100, 150, 200, 250, 300, 350, 400,\n",
              "                                          450, 500, 550, 600, 650, 700, 750,\n",
              "                                          800, 1100]},\n",
              "             return_train_score=True, scoring='neg_mean_absolute_error',\n",
              "             verbose=1)"
            ]
          },
          "metadata": {},
          "execution_count": 51
        }
      ]
    },
    {
      "cell_type": "code",
      "metadata": {
        "colab": {
          "base_uri": "https://localhost:8080/",
          "height": 357
        },
        "id": "-ST9m3qdCn0m",
        "outputId": "b7cf0328-20e5-4b79-a5c9-53481134d5ed"
      },
      "source": [
        "results = pd.DataFrame(grid_search.cv_results_).sort_values('mean_test_score', ascending = False)\n",
        "results.sort_values('mean_test_score', ascending = False).head(5)"
      ],
      "execution_count": null,
      "outputs": [
        {
          "output_type": "execute_result",
          "data": {
            "text/plain": [
              "    mean_fit_time  std_fit_time  mean_score_time  std_score_time  \\\n",
              "0        0.684611      0.010802         0.018659        0.002700   \n",
              "14       5.352857      0.052192         0.122306        0.005984   \n",
              "2        1.356389      0.020688         0.030438        0.000776   \n",
              "13       5.997766      0.898156         0.112228        0.003491   \n",
              "12       4.694304      0.044391         0.107055        0.004055   \n",
              "\n",
              "   param_n_estimators                 params  split0_test_score  \\\n",
              "0                 100  {'n_estimators': 100}        -118.160442   \n",
              "14                800  {'n_estimators': 800}        -117.824824   \n",
              "2                 200  {'n_estimators': 200}        -117.882435   \n",
              "13                750  {'n_estimators': 750}        -117.814509   \n",
              "12                700  {'n_estimators': 700}        -117.792034   \n",
              "\n",
              "    split1_test_score  split2_test_score  split3_test_score  mean_test_score  \\\n",
              "0         -131.677271        -115.514649         -92.196601      -114.387241   \n",
              "14        -132.193791        -116.190246         -91.524765      -114.433406   \n",
              "2         -131.671872        -116.281855         -91.958012      -114.448543   \n",
              "13        -132.228306        -116.210339         -91.579677      -114.458208   \n",
              "12        -132.277282        -116.260816         -91.532253      -114.465596   \n",
              "\n",
              "    std_test_score  rank_test_score  split0_train_score  split1_train_score  \\\n",
              "0        14.202797                1          -88.011529          -87.088648   \n",
              "14       14.618698                2          -87.451962          -87.221886   \n",
              "2        14.297025                3          -87.865959          -86.925210   \n",
              "13       14.607689                4          -87.419959          -87.244992   \n",
              "12       14.641400                5          -87.443989          -87.248805   \n",
              "\n",
              "    split2_train_score  split3_train_score  mean_train_score  std_train_score  \n",
              "0           -87.813123          -93.959747        -89.218262         2.758965  \n",
              "14          -87.309409          -93.294181        -88.819359         2.584844  \n",
              "2           -87.307500          -93.870984        -88.992413         2.836442  \n",
              "13          -87.298952          -93.291846        -88.813937         2.586098  \n",
              "12          -87.218116          -93.301136        -88.803012         2.598438  "
            ],
            "text/html": [
              "\n",
              "  <div id=\"df-4ef09c0c-fa8b-41cf-839c-0acb1cc574bf\">\n",
              "    <div class=\"colab-df-container\">\n",
              "      <div>\n",
              "<style scoped>\n",
              "    .dataframe tbody tr th:only-of-type {\n",
              "        vertical-align: middle;\n",
              "    }\n",
              "\n",
              "    .dataframe tbody tr th {\n",
              "        vertical-align: top;\n",
              "    }\n",
              "\n",
              "    .dataframe thead th {\n",
              "        text-align: right;\n",
              "    }\n",
              "</style>\n",
              "<table border=\"1\" class=\"dataframe\">\n",
              "  <thead>\n",
              "    <tr style=\"text-align: right;\">\n",
              "      <th></th>\n",
              "      <th>mean_fit_time</th>\n",
              "      <th>std_fit_time</th>\n",
              "      <th>mean_score_time</th>\n",
              "      <th>std_score_time</th>\n",
              "      <th>param_n_estimators</th>\n",
              "      <th>params</th>\n",
              "      <th>split0_test_score</th>\n",
              "      <th>split1_test_score</th>\n",
              "      <th>split2_test_score</th>\n",
              "      <th>split3_test_score</th>\n",
              "      <th>mean_test_score</th>\n",
              "      <th>std_test_score</th>\n",
              "      <th>rank_test_score</th>\n",
              "      <th>split0_train_score</th>\n",
              "      <th>split1_train_score</th>\n",
              "      <th>split2_train_score</th>\n",
              "      <th>split3_train_score</th>\n",
              "      <th>mean_train_score</th>\n",
              "      <th>std_train_score</th>\n",
              "    </tr>\n",
              "  </thead>\n",
              "  <tbody>\n",
              "    <tr>\n",
              "      <th>0</th>\n",
              "      <td>0.684611</td>\n",
              "      <td>0.010802</td>\n",
              "      <td>0.018659</td>\n",
              "      <td>0.002700</td>\n",
              "      <td>100</td>\n",
              "      <td>{'n_estimators': 100}</td>\n",
              "      <td>-118.160442</td>\n",
              "      <td>-131.677271</td>\n",
              "      <td>-115.514649</td>\n",
              "      <td>-92.196601</td>\n",
              "      <td>-114.387241</td>\n",
              "      <td>14.202797</td>\n",
              "      <td>1</td>\n",
              "      <td>-88.011529</td>\n",
              "      <td>-87.088648</td>\n",
              "      <td>-87.813123</td>\n",
              "      <td>-93.959747</td>\n",
              "      <td>-89.218262</td>\n",
              "      <td>2.758965</td>\n",
              "    </tr>\n",
              "    <tr>\n",
              "      <th>14</th>\n",
              "      <td>5.352857</td>\n",
              "      <td>0.052192</td>\n",
              "      <td>0.122306</td>\n",
              "      <td>0.005984</td>\n",
              "      <td>800</td>\n",
              "      <td>{'n_estimators': 800}</td>\n",
              "      <td>-117.824824</td>\n",
              "      <td>-132.193791</td>\n",
              "      <td>-116.190246</td>\n",
              "      <td>-91.524765</td>\n",
              "      <td>-114.433406</td>\n",
              "      <td>14.618698</td>\n",
              "      <td>2</td>\n",
              "      <td>-87.451962</td>\n",
              "      <td>-87.221886</td>\n",
              "      <td>-87.309409</td>\n",
              "      <td>-93.294181</td>\n",
              "      <td>-88.819359</td>\n",
              "      <td>2.584844</td>\n",
              "    </tr>\n",
              "    <tr>\n",
              "      <th>2</th>\n",
              "      <td>1.356389</td>\n",
              "      <td>0.020688</td>\n",
              "      <td>0.030438</td>\n",
              "      <td>0.000776</td>\n",
              "      <td>200</td>\n",
              "      <td>{'n_estimators': 200}</td>\n",
              "      <td>-117.882435</td>\n",
              "      <td>-131.671872</td>\n",
              "      <td>-116.281855</td>\n",
              "      <td>-91.958012</td>\n",
              "      <td>-114.448543</td>\n",
              "      <td>14.297025</td>\n",
              "      <td>3</td>\n",
              "      <td>-87.865959</td>\n",
              "      <td>-86.925210</td>\n",
              "      <td>-87.307500</td>\n",
              "      <td>-93.870984</td>\n",
              "      <td>-88.992413</td>\n",
              "      <td>2.836442</td>\n",
              "    </tr>\n",
              "    <tr>\n",
              "      <th>13</th>\n",
              "      <td>5.997766</td>\n",
              "      <td>0.898156</td>\n",
              "      <td>0.112228</td>\n",
              "      <td>0.003491</td>\n",
              "      <td>750</td>\n",
              "      <td>{'n_estimators': 750}</td>\n",
              "      <td>-117.814509</td>\n",
              "      <td>-132.228306</td>\n",
              "      <td>-116.210339</td>\n",
              "      <td>-91.579677</td>\n",
              "      <td>-114.458208</td>\n",
              "      <td>14.607689</td>\n",
              "      <td>4</td>\n",
              "      <td>-87.419959</td>\n",
              "      <td>-87.244992</td>\n",
              "      <td>-87.298952</td>\n",
              "      <td>-93.291846</td>\n",
              "      <td>-88.813937</td>\n",
              "      <td>2.586098</td>\n",
              "    </tr>\n",
              "    <tr>\n",
              "      <th>12</th>\n",
              "      <td>4.694304</td>\n",
              "      <td>0.044391</td>\n",
              "      <td>0.107055</td>\n",
              "      <td>0.004055</td>\n",
              "      <td>700</td>\n",
              "      <td>{'n_estimators': 700}</td>\n",
              "      <td>-117.792034</td>\n",
              "      <td>-132.277282</td>\n",
              "      <td>-116.260816</td>\n",
              "      <td>-91.532253</td>\n",
              "      <td>-114.465596</td>\n",
              "      <td>14.641400</td>\n",
              "      <td>5</td>\n",
              "      <td>-87.443989</td>\n",
              "      <td>-87.248805</td>\n",
              "      <td>-87.218116</td>\n",
              "      <td>-93.301136</td>\n",
              "      <td>-88.803012</td>\n",
              "      <td>2.598438</td>\n",
              "    </tr>\n",
              "  </tbody>\n",
              "</table>\n",
              "</div>\n",
              "      <button class=\"colab-df-convert\" onclick=\"convertToInteractive('df-4ef09c0c-fa8b-41cf-839c-0acb1cc574bf')\"\n",
              "              title=\"Convert this dataframe to an interactive table.\"\n",
              "              style=\"display:none;\">\n",
              "        \n",
              "  <svg xmlns=\"http://www.w3.org/2000/svg\" height=\"24px\"viewBox=\"0 0 24 24\"\n",
              "       width=\"24px\">\n",
              "    <path d=\"M0 0h24v24H0V0z\" fill=\"none\"/>\n",
              "    <path d=\"M18.56 5.44l.94 2.06.94-2.06 2.06-.94-2.06-.94-.94-2.06-.94 2.06-2.06.94zm-11 1L8.5 8.5l.94-2.06 2.06-.94-2.06-.94L8.5 2.5l-.94 2.06-2.06.94zm10 10l.94 2.06.94-2.06 2.06-.94-2.06-.94-.94-2.06-.94 2.06-2.06.94z\"/><path d=\"M17.41 7.96l-1.37-1.37c-.4-.4-.92-.59-1.43-.59-.52 0-1.04.2-1.43.59L10.3 9.45l-7.72 7.72c-.78.78-.78 2.05 0 2.83L4 21.41c.39.39.9.59 1.41.59.51 0 1.02-.2 1.41-.59l7.78-7.78 2.81-2.81c.8-.78.8-2.07 0-2.86zM5.41 20L4 18.59l7.72-7.72 1.47 1.35L5.41 20z\"/>\n",
              "  </svg>\n",
              "      </button>\n",
              "      \n",
              "  <style>\n",
              "    .colab-df-container {\n",
              "      display:flex;\n",
              "      flex-wrap:wrap;\n",
              "      gap: 12px;\n",
              "    }\n",
              "\n",
              "    .colab-df-convert {\n",
              "      background-color: #E8F0FE;\n",
              "      border: none;\n",
              "      border-radius: 50%;\n",
              "      cursor: pointer;\n",
              "      display: none;\n",
              "      fill: #1967D2;\n",
              "      height: 32px;\n",
              "      padding: 0 0 0 0;\n",
              "      width: 32px;\n",
              "    }\n",
              "\n",
              "    .colab-df-convert:hover {\n",
              "      background-color: #E2EBFA;\n",
              "      box-shadow: 0px 1px 2px rgba(60, 64, 67, 0.3), 0px 1px 3px 1px rgba(60, 64, 67, 0.15);\n",
              "      fill: #174EA6;\n",
              "    }\n",
              "\n",
              "    [theme=dark] .colab-df-convert {\n",
              "      background-color: #3B4455;\n",
              "      fill: #D2E3FC;\n",
              "    }\n",
              "\n",
              "    [theme=dark] .colab-df-convert:hover {\n",
              "      background-color: #434B5C;\n",
              "      box-shadow: 0px 1px 3px 1px rgba(0, 0, 0, 0.15);\n",
              "      filter: drop-shadow(0px 1px 2px rgba(0, 0, 0, 0.3));\n",
              "      fill: #FFFFFF;\n",
              "    }\n",
              "  </style>\n",
              "\n",
              "      <script>\n",
              "        const buttonEl =\n",
              "          document.querySelector('#df-4ef09c0c-fa8b-41cf-839c-0acb1cc574bf button.colab-df-convert');\n",
              "        buttonEl.style.display =\n",
              "          google.colab.kernel.accessAllowed ? 'block' : 'none';\n",
              "\n",
              "        async function convertToInteractive(key) {\n",
              "          const element = document.querySelector('#df-4ef09c0c-fa8b-41cf-839c-0acb1cc574bf');\n",
              "          const dataTable =\n",
              "            await google.colab.kernel.invokeFunction('convertToInteractive',\n",
              "                                                     [key], {});\n",
              "          if (!dataTable) return;\n",
              "\n",
              "          const docLinkHtml = 'Like what you see? Visit the ' +\n",
              "            '<a target=\"_blank\" href=https://colab.research.google.com/notebooks/data_table.ipynb>data table notebook</a>'\n",
              "            + ' to learn more about interactive tables.';\n",
              "          element.innerHTML = '';\n",
              "          dataTable['output_type'] = 'display_data';\n",
              "          await google.colab.output.renderOutput(dataTable, element);\n",
              "          const docLink = document.createElement('div');\n",
              "          docLink.innerHTML = docLinkHtml;\n",
              "          element.appendChild(docLink);\n",
              "        }\n",
              "      </script>\n",
              "    </div>\n",
              "  </div>\n",
              "  "
            ]
          },
          "metadata": {},
          "execution_count": 55
        }
      ]
    },
    {
      "cell_type": "markdown",
      "metadata": {
        "id": "-JPYYBIDed_H"
      },
      "source": [
        "Сравним модели для проверки настройки"
      ]
    },
    {
      "cell_type": "code",
      "metadata": {
        "colab": {
          "base_uri": "https://localhost:8080/"
        },
        "id": "RItg3vzhCw8_",
        "outputId": "dda5a8a6-74e9-4e4e-ee4e-e310e0a76057"
      },
      "source": [
        "default_model = RandomForestRegressor(random_state = 42)\n",
        "\n",
        "final_model = RandomForestRegressor(max_depth = 10,\n",
        "                                  min_samples_leaf =1,\n",
        "                                  min_samples_split =2,\n",
        "                                  max_features = 'auto',\n",
        "                                  n_estimators=900,\n",
        "                                  random_state = 42)\n",
        "\n",
        "final_model"
      ],
      "execution_count": null,
      "outputs": [
        {
          "output_type": "execute_result",
          "data": {
            "text/plain": [
              "RandomForestRegressor(max_depth=10, n_estimators=900, random_state=42)"
            ]
          },
          "metadata": {},
          "execution_count": 56
        }
      ]
    },
    {
      "cell_type": "code",
      "metadata": {
        "colab": {
          "base_uri": "https://localhost:8080/"
        },
        "id": "C-7Ie_JhC6Ws",
        "outputId": "04483fa3-dd66-4fd4-fb92-aabfb2c1a315"
      },
      "source": [
        "%%timeit -n 1 -r 5\n",
        "default_model.fit(X, y)"
      ],
      "execution_count": null,
      "outputs": [
        {
          "output_type": "stream",
          "name": "stdout",
          "text": [
            "1.06 s ± 6.61 ms per loop (mean ± std. dev. of 5 runs, 1 loop each)\n"
          ]
        }
      ]
    },
    {
      "cell_type": "code",
      "metadata": {
        "colab": {
          "base_uri": "https://localhost:8080/"
        },
        "id": "5-WcwyocDDgj",
        "outputId": "de57a055-f05e-4eb7-d65d-03dcbe197c7e"
      },
      "source": [
        "%%timeit -n 1 -r 5\n",
        "final_model.fit(X, y)"
      ],
      "execution_count": null,
      "outputs": [
        {
          "output_type": "stream",
          "name": "stdout",
          "text": [
            "7.63 s ± 612 ms per loop (mean ± std. dev. of 5 runs, 1 loop each)\n"
          ]
        }
      ]
    },
    {
      "cell_type": "code",
      "metadata": {
        "colab": {
          "base_uri": "https://localhost:8080/"
        },
        "id": "EhGfySsTDR-t",
        "outputId": "3afd51a8-49d9-4139-f93d-56f0e017308b"
      },
      "source": [
        "default_pred = default_model.predict(X_test)\n",
        "final_pred = final_model.predict(X_test)\n",
        "\n",
        "print('Default model performance on the test set: MAE = %0.4f.' % mae(y_test, default_pred))\n",
        "print('Final model performance on the test set:   MAE = %0.4f.' % mae(y_test, final_pred))"
      ],
      "execution_count": null,
      "outputs": [
        {
          "output_type": "stream",
          "name": "stdout",
          "text": [
            "Default model performance on the test set: MAE = 100.6627.\n",
            "Final model performance on the test set:   MAE = 101.5926.\n"
          ]
        }
      ]
    },
    {
      "cell_type": "markdown",
      "metadata": {
        "id": "AylqFqOJessm"
      },
      "source": [
        "Почему-то ненастроенная модель работает лучше.\n",
        "\n",
        "Попытки настройки гиперпараметров не привели к улучшению.\n",
        "\n",
        "Для обучения будем использовать ненастроенную модель."
      ]
    },
    {
      "cell_type": "markdown",
      "metadata": {
        "id": "BTyIQNy8faCA"
      },
      "source": [
        "8)Результаты обучения"
      ]
    },
    {
      "cell_type": "code",
      "metadata": {
        "colab": {
          "base_uri": "https://localhost:8080/",
          "height": 597
        },
        "id": "BYxmBgjMK-la",
        "outputId": "8afedbbc-f764-48aa-f520-0fc50c5aa36f"
      },
      "source": [
        "figsize(8, 8)\n",
        "\n",
        "\n",
        "sns.kdeplot(default_pred, label = 'Predictions')\n",
        "sns.kdeplot(y_test, label = 'Values')\n",
        "\n",
        "\n",
        "plt.xlabel('Mnt'); plt.ylabel('Density');\n",
        "plt.title('Test Values and Predictions')"
      ],
      "execution_count": null,
      "outputs": [
        {
          "output_type": "execute_result",
          "data": {
            "text/plain": [
              "Text(0.5, 1.0, 'Test Values and Predictions')"
            ]
          },
          "metadata": {},
          "execution_count": 60
        },
        {
          "output_type": "display_data",
          "data": {
            "text/plain": [
              "<Figure size 576x576 with 1 Axes>"
            ],
            "image/png": "[encoded data removed]"
          },
          "metadata": {}
        }
      ]
    },
    {
      "cell_type": "code",
      "metadata": {
        "colab": {
          "base_uri": "https://localhost:8080/",
          "height": 580
        },
        "id": "lNhuGQ4YLJir",
        "outputId": "9ff03282-fa6f-4f54-e30b-3e9dd657dbb8"
      },
      "source": [
        "figsize = (6, 6)\n",
        "\n",
        "# Calculate the residuals \n",
        "residuals = default_pred - y_test\n",
        "\n",
        "# Plot the residuals in a histogram\n",
        "plt.hist(residuals, color = 'red', bins = 20,\n",
        "         edgecolor = 'black')\n",
        "plt.xlabel('Error'); plt.ylabel('Count')\n",
        "plt.title('Distribution of Residuals');"
      ],
      "execution_count": null,
      "outputs": [
        {
          "output_type": "display_data",
          "data": {
            "text/plain": [
              "<Figure size 576x576 with 1 Axes>"
            ],
            "image/png": "[encoded data removed]"
          },
          "metadata": {}
        }
      ]
    },
    {
      "cell_type": "markdown",
      "metadata": {
        "id": "K8-mXz2_fkjq"
      },
      "source": [
        "9)Выводы\n",
        "\n",
        "По графикам выше видно, что модель в большенстве случаев работает удачно.\n",
        "\n",
        "Средняя ошибка составила 119 покупок в год, что я считаю приемлемым для наших целей."
      ]
    },
    {
      "cell_type": "markdown",
      "source": [],
      "metadata": {
        "id": "2-6XsaIBSQGy"
      }
    }
  ]
}